{
 "cells": [
  {
   "cell_type": "markdown",
   "metadata": {},
   "source": [
    "# AE 483: Final Project\n",
    "### Search & Rescue with Variable Mass\n",
    "#### Charlie Ray, Dennis McCann, Vivek Kodali, Michael Biela"
   ]
  },
  {
   "cell_type": "markdown",
   "metadata": {},
   "source": [
    "# 1. Setup the Notebook"
   ]
  },
  {
   "cell_type": "markdown",
   "metadata": {},
   "source": [
    "Import modules"
   ]
  },
  {
   "cell_type": "code",
   "execution_count": 19,
   "metadata": {},
   "outputs": [],
   "source": [
    "import numpy as np\n",
    "import sympy as sym\n",
    "import json\n",
    "import matplotlib.pyplot as plt\n",
    "from scipy import linalg\n",
    "from scipy.interpolate import interp1d"
   ]
  },
  {
   "cell_type": "markdown",
   "metadata": {},
   "source": [
    "Define a function to load data from hardware. \n",
    "\n",
    "#### This function was created by Professor Bretl ####"
   ]
  },
  {
   "cell_type": "code",
   "execution_count": 20,
   "metadata": {},
   "outputs": [],
   "source": [
    "def load_hardware_data(filename, t_min_offset=0, t_max_offset=0, only_in_flight=False):\n",
    "    # load raw data\n",
    "    with open(filename, 'r') as f:\n",
    "        data = json.load(f)\n",
    "\n",
    "    # convert lists to numpy arrays\n",
    "    for val in data.values():\n",
    "        for key in val.keys():\n",
    "            val[key] = np.array(val[key])\n",
    "\n",
    "    # create an array of times at which to subsample\n",
    "    t_min = -np.inf\n",
    "    t_max = np.inf\n",
    "    for key, val in data.items():\n",
    "        t_min = max(t_min, val['time'][0])\n",
    "        t_max = min(t_max, val['time'][-1])\n",
    "    t_min += t_min_offset * 1000\n",
    "    t_max -= t_max_offset * 1000\n",
    "    nt = int(1 + np.floor((t_max - t_min) / 10.))\n",
    "    t = np.arange(0, 10 * nt, 10) / 1000.\n",
    "    resampled_data = {'time': t}\n",
    "\n",
    "    # resample raw data with linear interpolation\n",
    "    for k, v in data.items():\n",
    "        f = interp1d((v['time'] - t_min) / 1000., v['data'])\n",
    "        resampled_data[k] = f(t)\n",
    "    \n",
    "    # truncate to times when o_z_des is positive\n",
    "    if only_in_flight:\n",
    "        if 'ae483log.o_z_des' not in resampled_data.keys():\n",
    "            raise Exception('\"ae483log.o_z_des\" must be logged')\n",
    "        i = np.argwhere(resampled_data['ae483log.o_z_des'] > 0).flatten()\n",
    "        if len(i) == 0:\n",
    "            raise Exception('o_z_des was never positive')\n",
    "        if len(i) < 2:\n",
    "            raise Exception('o_z_des was only positive for one time step')\n",
    "        for key in resampled_data.keys():\n",
    "            resampled_data[key] = resampled_data[key][i[0]:i[-1]]\n",
    "        \n",
    "    # return the resampled data\n",
    "    return resampled_data"
   ]
  },
  {
   "cell_type": "code",
   "execution_count": 21,
   "metadata": {},
   "outputs": [],
   "source": [
    "def export_power_distribution(Pinv,\n",
    "                              limiter='self.limitUint16',\n",
    "                              decimals=1,\n",
    "                              suffix='',\n",
    "                              line_ending=''):\n",
    "    \"\"\"\n",
    "    Pinv is a 4 x 4 matrix that maps inputs (tau_x, tau_y, tau_z, f_z)\n",
    "        to motor power commands (m_1, m_2, m_3, m_4)\n",
    "    limiter is the name of the function to apply that ensures each\n",
    "        motor power command is valid (i.e., an integer within bounds),\n",
    "        for example \"limitUint16\" when exporting to C\n",
    "    decimals is the number of decimals to include when printing\n",
    "        each value\n",
    "    suffix is the character (if any) to print after each number,\n",
    "        for example 'f' to indicate a \"float\" when exporting to C\n",
    "    line_ending is the character (if any) to print after each\n",
    "        line, for example ';' when exporting to C\n",
    "    \"\"\"\n",
    "    \n",
    "    i_name = ['tau_x', 'tau_y', 'tau_z', 'f_z']\n",
    "    m_name = ['m_1', 'm_2', 'm_3', 'm_4']\n",
    "    for row in range(len(m_name)):\n",
    "        input_string = ''\n",
    "        for col in range(len(i_name)):\n",
    "            k = Pinv[row, col]\n",
    "            if not np.isclose(k, 0.):\n",
    "                if (k > 0) and input_string:\n",
    "                    input_string += ' +'\n",
    "                n = i_name[col]\n",
    "                input_string += f' {k:.{decimals}f}{suffix} * {n}'\n",
    "        print(f'{m_name[row]} = {limiter}({input_string} ){line_ending}')"
   ]
  },
  {
   "cell_type": "code",
   "execution_count": 22,
   "metadata": {},
   "outputs": [],
   "source": [
    "def export_controller(K, s, i, s_with_des, i_eq,\n",
    "                      decimals=8,\n",
    "                      suffix='',\n",
    "                      line_ending=''):\n",
    "    \"\"\"\n",
    "    K is a gain matrix, of size m x n\n",
    "    s is a list of states as symbolic variables, of length n\n",
    "    i is a list of inputs as symbolic variables, of length m\n",
    "    s_with_des is a list of states that have desired values, as\n",
    "        symbolic variables - if there are no such states, then\n",
    "        this should be an empty list []\n",
    "    i_eq is a list of equilibrium values of inputs, of length m\n",
    "    decimals is the number of decimals to include when printing\n",
    "        each value\n",
    "    suffix is the character (if any) to print after each number,\n",
    "        for example 'f' to indicate a \"float\" when exporting to C\n",
    "    line_ending is the character (if any) to print after each\n",
    "        line, for example ';' when exporting to C\n",
    "    \"\"\"\n",
    "    \n",
    "    s_name = [scur.name for scur in s]\n",
    "    i_name = [icur.name for icur in i]\n",
    "    for row in range(len(i_name)):\n",
    "        input_string = ''\n",
    "        for col in range(len(s_name)):\n",
    "            k = K[row, col]\n",
    "            if not np.isclose(k, 0.):\n",
    "                if (k < 0) and input_string:\n",
    "                    input_string += ' +'\n",
    "                if s[col] in s_with_des:\n",
    "                    n = f'({s_name[col]} - {s_name[col]}_des)'\n",
    "                else:\n",
    "                    n = s_name[col]\n",
    "                input_string += f' {-k:.{decimals}f}{suffix} * {n}'\n",
    "        if not np.isclose(i_eq[row], 0.):\n",
    "            if (i_eq[row] > 0) and input_string:\n",
    "                input_string += ' +'\n",
    "            input_string += f' {i_eq[row]:.{decimals}f}{suffix}'\n",
    "        print(f'{i_name[row]} ={input_string}{line_ending}')"
   ]
  },
  {
   "cell_type": "code",
   "execution_count": 23,
   "metadata": {},
   "outputs": [],
   "source": [
    "def resample(filename, t_min_offset=0, t_max_offset=0):\n",
    "    # load raw data\n",
    "    with open(filename, 'r') as f:\n",
    "        data = json.load(f)\n",
    "\n",
    "    # convert lists to numpy arrays\n",
    "    for val in data.values():\n",
    "        for key in val.keys():\n",
    "            val[key] = np.array(val[key])\n",
    "\n",
    "    # create an array of times at which to subsample\n",
    "    t_min = -np.inf\n",
    "    t_max = np.inf\n",
    "    for key, val in data.items():\n",
    "        t_min = max(t_min, val['time'][0])\n",
    "        t_max = min(t_max, val['time'][-1])\n",
    "    t_min += t_min_offset * 1000\n",
    "    t_max -= t_max_offset * 1000\n",
    "    nt = int(1 + np.floor((t_max - t_min) / 10.))\n",
    "    t = np.arange(0, 10 * nt, 10) / 1000.\n",
    "    resampled_data = {'time': t}\n",
    "\n",
    "    # resample raw data with linear interpolation\n",
    "    for k, v in data.items():\n",
    "        f = interp1d((v['time'] - t_min) / 1000., v['data'])\n",
    "        resampled_data[k] = f(t)\n",
    "        \n",
    "    # return the resampled data\n",
    "    return resampled_data"
   ]
  },
  {
   "cell_type": "markdown",
   "metadata": {},
   "source": [
    "# 2. Derive Models"
   ]
  },
  {
   "cell_type": "markdown",
   "metadata": {},
   "source": [
    "## 2.1. Symbolic Variables"
   ]
  },
  {
   "cell_type": "markdown",
   "metadata": {},
   "source": [
    "Define States:"
   ]
  },
  {
   "cell_type": "code",
   "execution_count": 24,
   "metadata": {},
   "outputs": [],
   "source": [
    "# components of position (meters)\n",
    "o_x, o_y, o_z = sym.symbols('o_x, o_y, o_z')\n",
    "\n",
    "# yaw, pitch, and roll angles (radians)\n",
    "psi, theta, phi = sym.symbols('psi, theta, phi')\n",
    "\n",
    "# components of linear velocity (meters / second)\n",
    "v_x, v_y, v_z = sym.symbols('v_x, v_y, v_z')\n",
    "\n",
    "# components of angular velocity (radians / second)\n",
    "w_x, w_y, w_z = sym.symbols('w_x, w_y, w_z')\n",
    "\n",
    "# z-axis accelerometer measurement - specific force (meters / second^2)\n",
    "a_z = sym.symbols('a_z')\n",
    "\n",
    "n_x, n_y, r = sym.symbols('n_x, n_y, r')\n",
    "\n",
    "# x, y, and z positions of loco anchors plus distances from anchors to tag\n",
    "x0, y0, z0, d0 = sym.symbols('x0, y0, z0, d0')\n",
    "x1, y1, z1, d1 = sym.symbols('x1, y1, z1, d1')\n",
    "x2, y2, z2, d2 = sym.symbols('x2, y2, z2, d2')\n",
    "x3, y3, z3, d3 = sym.symbols('x3, y3, z3, d3')\n",
    "x4, y4, z4, d4 = sym.symbols('x4, y4, z4, d4')\n",
    "x5, y5, z5, d5 = sym.symbols('x5, y5, z5, d5')\n",
    "x6, y6, z6, d6 = sym.symbols('x6, y6, z6, d6')\n",
    "x7, y7, z7, d7 = sym.symbols('x7, y7, z7, d7')\n",
    "\n",
    "# components of net rotor torque\n",
    "tau_x, tau_y, tau_z = sym.symbols('tau_x, tau_y, tau_z')\n",
    "\n",
    "# net rotor force\n",
    "f_z = sym.symbols('f_z')\n",
    "\n",
    "# parameters\n",
    "m, J_x, J_y, J_z, g = sym.symbols('m, J_x, J_y, J_z, g')\n",
    "\n",
    "\n",
    "\n",
    "k_flow = sym.symbols('k_flow')"
   ]
  },
  {
   "cell_type": "markdown",
   "metadata": {},
   "source": [
    "Create linear and angular velocity vectors (in coordinates of the body frame)"
   ]
  },
  {
   "cell_type": "code",
   "execution_count": 25,
   "metadata": {},
   "outputs": [],
   "source": [
    "v_01in1 = sym.Matrix([[v_x], [v_y], [v_z]])\n",
    "w_01in1 = sym.Matrix([[w_x], [w_y], [w_z]])"
   ]
  },
  {
   "cell_type": "markdown",
   "metadata": {},
   "source": [
    "Create a moment of inertia matrix (in coordinates of the body frame)"
   ]
  },
  {
   "cell_type": "code",
   "execution_count": 26,
   "metadata": {},
   "outputs": [],
   "source": [
    "J_in1 = sym.diag(J_x, J_y, J_z)\n",
    "s_with_des = [o_x, o_y, o_z]"
   ]
  },
  {
   "cell_type": "markdown",
   "metadata": {},
   "source": [
    "## 2.2. Controller"
   ]
  },
  {
   "cell_type": "markdown",
   "metadata": {},
   "source": [
    "### 2.2.1. Rotation Matrix in terms of Yaw, Pitch, and Roll Angles"
   ]
  },
  {
   "cell_type": "markdown",
   "metadata": {},
   "source": [
    "Define individual rotation matrices"
   ]
  },
  {
   "cell_type": "code",
   "execution_count": 27,
   "metadata": {},
   "outputs": [],
   "source": [
    "Rz = sym.Matrix([[sym.cos(psi), -sym.sin(psi), 0],\n",
    "                 [sym.sin(psi), sym.cos(psi), 0],\n",
    "                 [0, 0, 1]])\n",
    "\n",
    "Ry = sym.Matrix([[sym.cos(theta), 0, sym.sin(theta)],\n",
    "                 [0, 1, 0],\n",
    "                 [-sym.sin(theta), 0, sym.cos(theta)]])\n",
    "\n",
    "Rx = sym.Matrix([[1, 0, 0],\n",
    "                 [0, sym.cos(phi), -sym.sin(phi)],\n",
    "                 [0, sym.sin(phi), sym.cos(phi)]])"
   ]
  },
  {
   "cell_type": "markdown",
   "metadata": {},
   "source": [
    "Apply sequential transformation to compute the rotation matrix that describes the orientation of the drone"
   ]
  },
  {
   "cell_type": "code",
   "execution_count": 28,
   "metadata": {},
   "outputs": [],
   "source": [
    "R_1in0 = Rz * Ry * Rx"
   ]
  },
  {
   "cell_type": "markdown",
   "metadata": {},
   "source": [
    "### 2.2.2. Map from Angular Velocities to Angular Rates\n",
    "\n",
    "This can be done using the following equation:\n",
    "\n",
    "$$\\begin{bmatrix} \\dot{\\psi} \\\\ \\dot{\\theta} \\\\ \\dot{\\phi} \\end{bmatrix} = N w_{0, 1}^{1}$$"
   ]
  },
  {
   "cell_type": "code",
   "execution_count": 29,
   "metadata": {},
   "outputs": [],
   "source": [
    "Ninv = sym.Matrix.hstack((Ry * Rx).T * sym.Matrix([[0], [0], [1]]),\n",
    "                              (Rx).T * sym.Matrix([[0], [1], [0]]),\n",
    "                                       sym.Matrix([[1], [0], [0]]))\n",
    "        \n",
    "N = sym.simplify(Ninv.inv())"
   ]
  },
  {
   "cell_type": "markdown",
   "metadata": {},
   "source": [
    "### 2.2.3. Define Equations of Motion"
   ]
  },
  {
   "cell_type": "markdown",
   "metadata": {},
   "source": [
    "Forces:"
   ]
  },
  {
   "cell_type": "code",
   "execution_count": 30,
   "metadata": {},
   "outputs": [],
   "source": [
    "f_in1 = R_1in0.T * sym.Matrix([[0], [0], [-m * g]]) + sym.Matrix([[0], [0], [f_z]])\n",
    "\n",
    "# f_z_over_m = a_z + (w_01in1.cross(v_01in1))[2]"
   ]
  },
  {
   "cell_type": "markdown",
   "metadata": {},
   "source": [
    "Torques:"
   ]
  },
  {
   "cell_type": "code",
   "execution_count": 31,
   "metadata": {},
   "outputs": [],
   "source": [
    "tau_in1 = sym.Matrix([[tau_x], [tau_y], [tau_z]])"
   ]
  },
  {
   "cell_type": "markdown",
   "metadata": {},
   "source": [
    "Equations of Motion:"
   ]
  },
  {
   "cell_type": "code",
   "execution_count": 72,
   "metadata": {},
   "outputs": [],
   "source": [
    "f_sym_con = sym.Matrix.vstack(\n",
    "    R_1in0 * v_01in1,\n",
    "    N * w_01in1,\n",
    "    (1 / m) * (f_in1 - w_01in1.cross(m * v_01in1)),\n",
    "    J_in1.inv() * (tau_in1 - w_01in1.cross(J_in1 * w_01in1)))"
   ]
  },
  {
   "cell_type": "markdown",
   "metadata": {},
   "source": [
    "These Equations of Motion have the following form:\n",
    "\n",
    "$$\\dot{s} = f(s, i, p)$$\n",
    "\n",
    "where\n",
    "\n",
    "$$\n",
    "s = \\begin{bmatrix} o_x \\\\ o_y \\\\ o_z \\\\ \\psi \\\\ \\theta \\\\ \\phi \\\\ v_x \\\\ v_y \\\\ v_z \\\\ \\omega_x \\\\ \\omega_y \\\\ \\omega_z \\end{bmatrix}\n",
    "\\qquad\\qquad\n",
    "i = \\begin{bmatrix} \\tau_x \\\\ \\tau_y \\\\ \\tau_z \\\\ f_z \\end{bmatrix},\n",
    "\\qquad\\qquad\n",
    "p = \\begin{bmatrix} m \\\\ J_x \\\\ J_y \\\\ J_z \\\\ g \\end{bmatrix}.\n",
    "$$"
   ]
  },
  {
   "cell_type": "code",
   "execution_count": 73,
   "metadata": {},
   "outputs": [
    {
     "data": {
      "text/latex": [
       "$\\displaystyle \\left[\\begin{matrix}v_{x} \\cos{\\left(\\psi \\right)} \\cos{\\left(\\theta \\right)} + v_{y} \\left(\\sin{\\left(\\phi \\right)} \\sin{\\left(\\theta \\right)} \\cos{\\left(\\psi \\right)} - \\sin{\\left(\\psi \\right)} \\cos{\\left(\\phi \\right)}\\right) + v_{z} \\left(\\sin{\\left(\\phi \\right)} \\sin{\\left(\\psi \\right)} + \\sin{\\left(\\theta \\right)} \\cos{\\left(\\phi \\right)} \\cos{\\left(\\psi \\right)}\\right)\\\\v_{x} \\sin{\\left(\\psi \\right)} \\cos{\\left(\\theta \\right)} + v_{y} \\left(\\sin{\\left(\\phi \\right)} \\sin{\\left(\\psi \\right)} \\sin{\\left(\\theta \\right)} + \\cos{\\left(\\phi \\right)} \\cos{\\left(\\psi \\right)}\\right) + v_{z} \\left(- \\sin{\\left(\\phi \\right)} \\cos{\\left(\\psi \\right)} + \\sin{\\left(\\psi \\right)} \\sin{\\left(\\theta \\right)} \\cos{\\left(\\phi \\right)}\\right)\\\\- v_{x} \\sin{\\left(\\theta \\right)} + v_{y} \\sin{\\left(\\phi \\right)} \\cos{\\left(\\theta \\right)} + v_{z} \\cos{\\left(\\phi \\right)} \\cos{\\left(\\theta \\right)}\\\\\\frac{w_{y} \\sin{\\left(\\phi \\right)}}{\\cos{\\left(\\theta \\right)}} + \\frac{w_{z} \\cos{\\left(\\phi \\right)}}{\\cos{\\left(\\theta \\right)}}\\\\w_{y} \\cos{\\left(\\phi \\right)} - w_{z} \\sin{\\left(\\phi \\right)}\\\\w_{x} + w_{y} \\sin{\\left(\\phi \\right)} \\tan{\\left(\\theta \\right)} + w_{z} \\cos{\\left(\\phi \\right)} \\tan{\\left(\\theta \\right)}\\\\\\frac{g m \\sin{\\left(\\theta \\right)} + m v_{y} w_{z} - m v_{z} w_{y}}{m}\\\\\\frac{- g m \\sin{\\left(\\phi \\right)} \\cos{\\left(\\theta \\right)} - m v_{x} w_{z} + m v_{z} w_{x}}{m}\\\\\\frac{f_{z} - g m \\cos{\\left(\\phi \\right)} \\cos{\\left(\\theta \\right)} + m v_{x} w_{y} - m v_{y} w_{x}}{m}\\\\\\frac{J_{y} w_{y} w_{z} - J_{z} w_{y} w_{z} + \\tau_{x}}{J_{x}}\\\\\\frac{- J_{x} w_{x} w_{z} + J_{z} w_{x} w_{z} + \\tau_{y}}{J_{y}}\\\\\\frac{J_{x} w_{x} w_{y} - J_{y} w_{x} w_{y} + \\tau_{z}}{J_{z}}\\end{matrix}\\right]$"
      ],
      "text/plain": [
       "Matrix([\n",
       "[ v_x*cos(psi)*cos(theta) + v_y*(sin(phi)*sin(theta)*cos(psi) - sin(psi)*cos(phi)) + v_z*(sin(phi)*sin(psi) + sin(theta)*cos(phi)*cos(psi))],\n",
       "[v_x*sin(psi)*cos(theta) + v_y*(sin(phi)*sin(psi)*sin(theta) + cos(phi)*cos(psi)) + v_z*(-sin(phi)*cos(psi) + sin(psi)*sin(theta)*cos(phi))],\n",
       "[                                                                       -v_x*sin(theta) + v_y*sin(phi)*cos(theta) + v_z*cos(phi)*cos(theta)],\n",
       "[                                                                                         w_y*sin(phi)/cos(theta) + w_z*cos(phi)/cos(theta)],\n",
       "[                                                                                                               w_y*cos(phi) - w_z*sin(phi)],\n",
       "[                                                                                   w_x + w_y*sin(phi)*tan(theta) + w_z*cos(phi)*tan(theta)],\n",
       "[                                                                                                (g*m*sin(theta) + m*v_y*w_z - m*v_z*w_y)/m],\n",
       "[                                                                                      (-g*m*sin(phi)*cos(theta) - m*v_x*w_z + m*v_z*w_x)/m],\n",
       "[                                                                                 (f_z - g*m*cos(phi)*cos(theta) + m*v_x*w_y - m*v_y*w_x)/m],\n",
       "[                                                                                                   (J_y*w_y*w_z - J_z*w_y*w_z + tau_x)/J_x],\n",
       "[                                                                                                  (-J_x*w_x*w_z + J_z*w_x*w_z + tau_y)/J_y],\n",
       "[                                                                                                   (J_x*w_x*w_y - J_y*w_x*w_y + tau_z)/J_z]])"
      ]
     },
     "execution_count": 73,
     "metadata": {},
     "output_type": "execute_result"
    }
   ],
   "source": [
    "f_sym_con"
   ]
  },
  {
   "cell_type": "markdown",
   "metadata": {},
   "source": [
    "## 2.4. State-Space Model"
   ]
  },
  {
   "cell_type": "markdown",
   "metadata": {},
   "source": [
    "Define constants"
   ]
  },
  {
   "cell_type": "code",
   "execution_count": 39,
   "metadata": {},
   "outputs": [],
   "source": [
    "# Mass\n",
    "m_val = 0.04275    # <-- FIXME\n",
    "\n",
    "# Principle moments of inertia\n",
    "J_x_val = 0.00002079685  # <-- FIXME\n",
    "J_y_val = 0.00002122075  # <-- FIXME\n",
    "J_z_val = 0.000030112233  # <-- FIXME\n",
    "\n",
    "# Acceleration of gravity\n",
    "g_val = 9.81"
   ]
  },
  {
   "cell_type": "markdown",
   "metadata": {},
   "source": [
    "Create a list of states, inputs, and parameters as symbolic variables."
   ]
  },
  {
   "cell_type": "code",
   "execution_count": 70,
   "metadata": {},
   "outputs": [],
   "source": [
    "s_con = [o_x, o_y, o_z, psi, theta, phi, v_x, v_y, v_z, w_x, w_y, w_z]\n",
    "i_con = [tau_x, tau_y, tau_z, f_z]\n",
    "p_con = [m, J_x, J_y, J_z, g]\n",
    "\n",
    "s_with_des = [o_x, o_y, o_z]  # <-- states whose desired values will be \n",
    "                              #     specified by our client"
   ]
  },
  {
   "cell_type": "code",
   "execution_count": 84,
   "metadata": {},
   "outputs": [],
   "source": [
    "f_con = sym.lambdify(s_con + i_con + p_con, f_sym_con)\n",
    "\n",
    "# f_sym.subs(tuple(zip(s, s_eq))).subs(tuple(zip(i, i_eq)))"
   ]
  },
  {
   "cell_type": "markdown",
   "metadata": {},
   "source": [
    "equilibrum arrays for parameters"
   ]
  },
  {
   "cell_type": "code",
   "execution_count": 85,
   "metadata": {},
   "outputs": [],
   "source": [
    "s_eq_con = [0., 0., 0., 0., 0., 0., 0., 0., 0., 0., 0., 0.] # <-- FIXME\n",
    "i_eq_con = [0., 0., 0., m_val*g_val]                    # <-- FIXME\n",
    "p_eq_con = [m_val, J_x_val, J_y_val, J_z_val, g_val]"
   ]
  },
  {
   "cell_type": "code",
   "execution_count": 86,
   "metadata": {},
   "outputs": [
    {
     "data": {
      "text/plain": [
       "[0.0, 0.0, 0.0, 0.41937750000000007]"
      ]
     },
     "execution_count": 86,
     "metadata": {},
     "output_type": "execute_result"
    }
   ],
   "source": [
    "i_eq_con"
   ]
  },
  {
   "cell_type": "code",
   "execution_count": 87,
   "metadata": {},
   "outputs": [
    {
     "name": "stdout",
     "output_type": "stream",
     "text": [
      "[[0.]\n",
      " [0.]\n",
      " [0.]\n",
      " [0.]\n",
      " [0.]\n",
      " [0.]\n",
      " [0.]\n",
      " [0.]\n",
      " [0.]\n",
      " [0.]\n",
      " [0.]\n",
      " [0.]]\n"
     ]
    }
   ],
   "source": [
    "print(f_con(*s_eq_con, *i_eq_con, *p_eq_con))"
   ]
  },
  {
   "cell_type": "markdown",
   "metadata": {},
   "source": [
    "## 2.5. Compute A and B for the CONTROLLER"
   ]
  },
  {
   "cell_type": "code",
   "execution_count": 88,
   "metadata": {},
   "outputs": [],
   "source": [
    "# # Find A, B, C, D OLD\n",
    "# A_old = f_sym.jacobian(s).subs(tuple(zip(s, s_eq))).subs(tuple(zip(i, i_eq)))\n",
    "# B_old = f_sym.jacobian(i).subs(tuple(zip(s, s_eq))).subs(tuple(zip(i, i_eq)))\n",
    "# C_old = h.jacobian(s).subs(tuple(zip(s, s_eq))).subs(tuple(zip(i, i_eq)))\n",
    "# D_old = h.jacobian(i).subs(tuple(zip(s, s_eq))).subs(tuple(zip(i, i_eq)))\n",
    "\n",
    "# New A, B, C, and D \n",
    "A_sym_con = f_sym_con.jacobian(s_con).subs(tuple(zip(s_con, s_eq_con))).subs(tuple(zip(i_con, i_eq_con)))\n",
    "B_sym_con = f_sym_con.jacobian(i_con).subs(tuple(zip(s_con, s_eq_con))).subs(tuple(zip(i_con, i_eq_con)))"
   ]
  },
  {
   "cell_type": "code",
   "execution_count": 89,
   "metadata": {},
   "outputs": [],
   "source": [
    "A_num = sym.lambdify(s_con + i_con + p_con, A_sym_con)\n",
    "A = A_num(*s_eq_con, *i_eq_con, *p_eq_con)"
   ]
  },
  {
   "cell_type": "code",
   "execution_count": 90,
   "metadata": {},
   "outputs": [],
   "source": [
    "B_num = sym.lambdify(s_con + i_con + p_con, B_sym_con)\n",
    "B = B_num(*s_eq_con, *i_eq_con, *p_eq_con)"
   ]
  },
  {
   "cell_type": "code",
   "execution_count": 91,
   "metadata": {},
   "outputs": [
    {
     "data": {
      "text/latex": [
       "$\\displaystyle \\left[\\begin{array}{cccccccccccc}0 & 0 & 0 & 0 & 0.0 & 0 & 1 & 0 & 0 & 0 & 0 & 0\\\\0 & 0 & 0 & 0.0 & 0 & 0 & 0 & 1 & 0 & 0 & 0 & 0\\\\0 & 0 & 0 & 0 & 0 & 0.0 & 0 & 0 & 1 & 0 & 0 & 0\\\\0 & 0 & 0 & 0 & 0 & 0.0 & 0 & 0 & 0 & 0 & 0 & 1\\\\0 & 0 & 0 & 0 & 0 & 0 & 0 & 0 & 0 & 0 & 1 & 0\\\\0 & 0 & 0 & 0 & 0.0 & 0 & 0 & 0 & 0 & 1 & 0 & 0\\\\0 & 0 & 0 & 0 & g & 0 & 0 & 0.0 & 0 & 0 & 0 & 0.0\\\\0 & 0 & 0 & 0 & 0 & - g & 0 & 0 & 0.0 & 0.0 & 0 & 0\\\\0 & 0 & 0 & 0 & 0 & 0 & 0.0 & 0 & 0 & 0 & 0.0 & 0\\\\0 & 0 & 0 & 0 & 0 & 0 & 0 & 0 & 0 & 0 & 0 & 0\\\\0 & 0 & 0 & 0 & 0 & 0 & 0 & 0 & 0 & 0 & 0 & 0\\\\0 & 0 & 0 & 0 & 0 & 0 & 0 & 0 & 0 & 0 & 0 & 0\\end{array}\\right]$"
      ],
      "text/plain": [
       "Matrix([\n",
       "[0, 0, 0,   0, 0.0,   0,   1,   0,   0,   0,   0,   0],\n",
       "[0, 0, 0, 0.0,   0,   0,   0,   1,   0,   0,   0,   0],\n",
       "[0, 0, 0,   0,   0, 0.0,   0,   0,   1,   0,   0,   0],\n",
       "[0, 0, 0,   0,   0, 0.0,   0,   0,   0,   0,   0,   1],\n",
       "[0, 0, 0,   0,   0,   0,   0,   0,   0,   0,   1,   0],\n",
       "[0, 0, 0,   0, 0.0,   0,   0,   0,   0,   1,   0,   0],\n",
       "[0, 0, 0,   0,   g,   0,   0, 0.0,   0,   0,   0, 0.0],\n",
       "[0, 0, 0,   0,   0,  -g,   0,   0, 0.0, 0.0,   0,   0],\n",
       "[0, 0, 0,   0,   0,   0, 0.0,   0,   0,   0, 0.0,   0],\n",
       "[0, 0, 0,   0,   0,   0,   0,   0,   0,   0,   0,   0],\n",
       "[0, 0, 0,   0,   0,   0,   0,   0,   0,   0,   0,   0],\n",
       "[0, 0, 0,   0,   0,   0,   0,   0,   0,   0,   0,   0]])"
      ]
     },
     "execution_count": 91,
     "metadata": {},
     "output_type": "execute_result"
    }
   ],
   "source": [
    "A_sym_con"
   ]
  },
  {
   "cell_type": "code",
   "execution_count": 92,
   "metadata": {},
   "outputs": [
    {
     "data": {
      "text/latex": [
       "$\\displaystyle \\left[\\begin{matrix}0 & 0 & 0 & 0\\\\0 & 0 & 0 & 0\\\\0 & 0 & 0 & 0\\\\0 & 0 & 0 & 0\\\\0 & 0 & 0 & 0\\\\0 & 0 & 0 & 0\\\\0 & 0 & 0 & 0\\\\0 & 0 & 0 & 0\\\\0 & 0 & 0 & \\frac{1}{m}\\\\\\frac{1}{J_{x}} & 0 & 0 & 0\\\\0 & \\frac{1}{J_{y}} & 0 & 0\\\\0 & 0 & \\frac{1}{J_{z}} & 0\\end{matrix}\\right]$"
      ],
      "text/plain": [
       "Matrix([\n",
       "[    0,     0,     0,   0],\n",
       "[    0,     0,     0,   0],\n",
       "[    0,     0,     0,   0],\n",
       "[    0,     0,     0,   0],\n",
       "[    0,     0,     0,   0],\n",
       "[    0,     0,     0,   0],\n",
       "[    0,     0,     0,   0],\n",
       "[    0,     0,     0,   0],\n",
       "[    0,     0,     0, 1/m],\n",
       "[1/J_x,     0,     0,   0],\n",
       "[    0, 1/J_y,     0,   0],\n",
       "[    0,     0, 1/J_z,   0]])"
      ]
     },
     "execution_count": 92,
     "metadata": {},
     "output_type": "execute_result"
    }
   ],
   "source": [
    "B_sym_con"
   ]
  },
  {
   "cell_type": "markdown",
   "metadata": {},
   "source": [
    "## 2.6. Observer"
   ]
  },
  {
   "cell_type": "markdown",
   "metadata": {},
   "source": [
    "Up until now, everything we have done has been exactly the same as was done in class (in fact, all of the code has been copied from the lab 7 jupyter notebook). Here, however, is where we begin to deviate.\n",
    "\n",
    "Below is an array of the measurement equations we used in lab, concatenated with the new measurement equations that result from the loco positioning system. "
   ]
  },
  {
   "cell_type": "code",
   "execution_count": null,
   "metadata": {},
   "outputs": [],
   "source": [
    "def lqr(A, B, Q, R):\n",
    "    P = linalg.solve_continuous_are(A, B, Q, R)\n",
    "    K = linalg.inv(R) @  B.T @ P\n",
    "    return K"
   ]
  },
  {
   "cell_type": "code",
   "execution_count": 53,
   "metadata": {},
   "outputs": [],
   "source": [
    "h = sym.Matrix([\n",
    "    k_flow * (v_x - o_z * w_y) / o_z,        # <-- x flow (n_x)\n",
    "    k_flow * (v_y + o_z * w_x) / o_z,        # <-- y flow (n_y)\n",
    "    o_z / (sym.cos(phi) * sym.cos(theta)),   # <-- z range (r)\n",
    "    ((o_x - x0)**2 + (o_y - y0)**2 + (o_z - z0)**2)**(1/2),   # < -- distance from anchor 0 (d0)\n",
    "    ((o_x - x1)**2 + (o_y - y1)**2 + (o_z - z1)**2)**(1/2),   # < -- distance from anchor 1 (d1)\n",
    "    ((o_x - x2)**2 + (o_y - y2)**2 + (o_z - z2)**2)**(1/2),   # < -- distance from anchor 2 (d2)\n",
    "    ((o_x - x3)**2 + (o_y - y3)**2 + (o_z - z3)**2)**(1/2),   # < -- distance from anchor 3 (d3)\n",
    "    ((o_x - x4)**2 + (o_y - y4)**2 + (o_z - z4)**2)**(1/2),   # < -- distance from anchor 4 (d4)\n",
    "    ((o_x - x5)**2 + (o_y - y5)**2 + (o_z - z5)**2)**(1/2),   # < -- distance from anchor 5 (d5)\n",
    "    ((o_x - x6)**2 + (o_y - y6)**2 + (o_z - z6)**2)**(1/2),   # < -- distance from anchor 6 (d6)\n",
    "    ((o_x - x7)**2 + (o_y - y7)**2 + (o_z - z7)**2)**(1/2)    # < -- distance from anchor 7 (d7)\n",
    "])\n"
   ]
  },
  {
   "cell_type": "code",
   "execution_count": 62,
   "metadata": {},
   "outputs": [
    {
     "data": {
      "text/latex": [
       "$\\displaystyle \\left[\\begin{matrix}\\frac{k_{flow} \\left(- o_{z} w_{y} + v_{x}\\right)}{o_{z}}\\\\\\frac{k_{flow} \\left(o_{z} w_{x} + v_{y}\\right)}{o_{z}}\\\\\\frac{o_{z}}{\\cos{\\left(\\phi \\right)} \\cos{\\left(\\theta \\right)}}\\\\\\left(\\left(o_{x} - x_{0}\\right)^{2} + \\left(o_{y} - y_{0}\\right)^{2} + \\left(o_{z} - z_{0}\\right)^{2}\\right)^{0.5}\\\\\\left(\\left(o_{x} - x_{1}\\right)^{2} + \\left(o_{y} - y_{1}\\right)^{2} + \\left(o_{z} - z_{1}\\right)^{2}\\right)^{0.5}\\\\\\left(\\left(o_{x} - x_{2}\\right)^{2} + \\left(o_{y} - y_{2}\\right)^{2} + \\left(o_{z} - z_{2}\\right)^{2}\\right)^{0.5}\\\\\\left(\\left(o_{x} - x_{3}\\right)^{2} + \\left(o_{y} - y_{3}\\right)^{2} + \\left(o_{z} - z_{3}\\right)^{2}\\right)^{0.5}\\\\\\left(\\left(o_{x} - x_{4}\\right)^{2} + \\left(o_{y} - y_{4}\\right)^{2} + \\left(o_{z} - z_{4}\\right)^{2}\\right)^{0.5}\\\\\\left(\\left(o_{x} - x_{5}\\right)^{2} + \\left(o_{y} - y_{5}\\right)^{2} + \\left(o_{z} - z_{5}\\right)^{2}\\right)^{0.5}\\\\\\left(\\left(o_{x} - x_{6}\\right)^{2} + \\left(o_{y} - y_{6}\\right)^{2} + \\left(o_{z} - z_{6}\\right)^{2}\\right)^{0.5}\\\\\\left(\\left(o_{x} - x_{7}\\right)^{2} + \\left(o_{y} - y_{7}\\right)^{2} + \\left(o_{z} - z_{7}\\right)^{2}\\right)^{0.5}\\end{matrix}\\right]$"
      ],
      "text/plain": [
       "Matrix([\n",
       "[                         k_flow*(-o_z*w_y + v_x)/o_z],\n",
       "[                          k_flow*(o_z*w_x + v_y)/o_z],\n",
       "[                           o_z/(cos(phi)*cos(theta))],\n",
       "[((o_x - x0)**2 + (o_y - y0)**2 + (o_z - z0)**2)**0.5],\n",
       "[((o_x - x1)**2 + (o_y - y1)**2 + (o_z - z1)**2)**0.5],\n",
       "[((o_x - x2)**2 + (o_y - y2)**2 + (o_z - z2)**2)**0.5],\n",
       "[((o_x - x3)**2 + (o_y - y3)**2 + (o_z - z3)**2)**0.5],\n",
       "[((o_x - x4)**2 + (o_y - y4)**2 + (o_z - z4)**2)**0.5],\n",
       "[((o_x - x5)**2 + (o_y - y5)**2 + (o_z - z5)**2)**0.5],\n",
       "[((o_x - x6)**2 + (o_y - y6)**2 + (o_z - z6)**2)**0.5],\n",
       "[((o_x - x7)**2 + (o_y - y7)**2 + (o_z - z7)**2)**0.5]])"
      ]
     },
     "execution_count": 62,
     "metadata": {},
     "output_type": "execute_result"
    }
   ],
   "source": [
    "h"
   ]
  },
  {
   "cell_type": "markdown",
   "metadata": {},
   "source": [
    "new f for observer:"
   ]
  },
  {
   "cell_type": "code",
   "execution_count": 64,
   "metadata": {},
   "outputs": [],
   "source": [
    "f_z_over_m = a_z + (w_01in1.cross(v_01in1))[2]\n",
    "\n",
    "f_in1_over_m = R_1in0.T * sym.Matrix([[0], [0], [-g]]) + sym.Matrix([[0], [0], [f_z_over_m]])\n",
    "\n",
    "f_obs = sym.Matrix.vstack(R_1in0 * v_01in1,\n",
    "                          N * w_01in1,\n",
    "                          (f_in1_over_m - w_01in1.cross(v_01in1)),\n",
    ")\n"
   ]
  },
  {
   "cell_type": "markdown",
   "metadata": {},
   "source": [
    "These measurement equations have the form\n",
    "\n",
    "$$o = h(s, i, p)$$\n",
    "\n",
    "where\n",
    "\n",
    "$$\n",
    "o = \\begin{bmatrix} n_x \\\\ n_y \\\\ r \\\\ d_0 \\\\ d_1 \\\\ d_2 \\\\ d_3 \\\\ ... \\\\ d_7 \\end{bmatrix}\n",
    "\\qquad\\qquad\n",
    "s = \\begin{bmatrix} o_x \\\\ o_y \\\\ o_z \\\\ \\psi \\\\ \\theta \\\\ \\phi \\\\ v_x \\\\ v_y \\\\ v_z \\end{bmatrix}\n",
    "\\qquad\\qquad\n",
    "i = \\begin{bmatrix} w_x \\\\ w_y \\\\ w_z \\\\ a_z \\end{bmatrix}\n",
    "\\qquad\\qquad\n",
    "p = \\begin{bmatrix} g \\\\ k_\\text{flow} \\end{bmatrix}.\n",
    "$$"
   ]
  },
  {
   "cell_type": "code",
   "execution_count": null,
   "metadata": {},
   "outputs": [],
   "source": [
    "o_x_eq, o_y_eq, o_z_eq = sym.symbols('o_x_eq, o_y_eq, o_z_eq')"
   ]
  },
  {
   "cell_type": "code",
   "execution_count": 93,
   "metadata": {},
   "outputs": [],
   "source": [
    "# Old state, input, output and parameters\n",
    "s_obs = [o_x, o_y, o_z, psi, theta, phi, v_x, v_y, v_z]\n",
    "i_obs = [w_x, w_y, w_z, a_z]\n",
    "o_obs = [n_x, n_y, r, d0, d1, d2, d3, d4, d5, d6, d7]\n",
    "p_obs = [g, k_flow]"
   ]
  },
  {
   "cell_type": "code",
   "execution_count": 94,
   "metadata": {},
   "outputs": [],
   "source": [
    "# New state and input equilibrium lists\n",
    "s_eq_obs = [o_x_eq, o_y_eq, o_z_eq, 0, 0, 0, 0, 0, 0]\n",
    "i_eq_obs = [0, 0, 0, g]"
   ]
  },
  {
   "cell_type": "code",
   "execution_count": 58,
   "metadata": {},
   "outputs": [],
   "source": [
    "# Make sure all values are symbolic\n",
    "s_eq = [sym.nsimplify(a) for a in s_eq]\n",
    "i_eq = [sym.nsimplify(a) for a in i_eq]"
   ]
  },
  {
   "cell_type": "code",
   "execution_count": 95,
   "metadata": {},
   "outputs": [
    {
     "data": {
      "text/latex": [
       "$\\displaystyle \\left[\\begin{matrix}0\\\\0\\\\0\\\\0\\\\0\\\\0\\\\0\\\\0\\\\0\\end{matrix}\\right]$"
      ],
      "text/plain": [
       "Matrix([\n",
       "[0],\n",
       "[0],\n",
       "[0],\n",
       "[0],\n",
       "[0],\n",
       "[0],\n",
       "[0],\n",
       "[0],\n",
       "[0]])"
      ]
     },
     "execution_count": 95,
     "metadata": {},
     "output_type": "execute_result"
    }
   ],
   "source": [
    "f_obs.subs(tuple(zip(s_obs, s_eq_obs))).subs(tuple(zip(i_obs, i_eq_obs)))"
   ]
  },
  {
   "cell_type": "markdown",
   "metadata": {},
   "source": [
    "## 2.7. Compute A, B, C, and D for the OBSERVER"
   ]
  },
  {
   "cell_type": "code",
   "execution_count": 99,
   "metadata": {},
   "outputs": [],
   "source": [
    "A_obs = f_obs.jacobian(s).subs(tuple(zip(s_obs, s_eq_obs))).subs(tuple(zip(i_obs, i_eq_obs)))\n",
    "B_obs = f_obs.jacobian(i).subs(tuple(zip(s_obs, s_eq_obs))).subs(tuple(zip(i_obs, i_eq_obs)))\n",
    "C_obs = h.jacobian(s).subs(tuple(zip(s_obs, s_eq_obs))).subs(tuple(zip(i_obs, i_eq_obs)))\n",
    "D_obs = h.jacobian(i).subs(tuple(zip(s_obs, s_eq_obs))).subs(tuple(zip(i_obs, i_eq_obs)))"
   ]
  },
  {
   "cell_type": "code",
   "execution_count": 100,
   "metadata": {},
   "outputs": [
    {
     "data": {
      "text/latex": [
       "$\\displaystyle \\left[\\begin{matrix}0 & 0 & 0 & 0 & 0 & 0 & 1 & 0 & 0\\\\0 & 0 & 0 & 0 & 0 & 0 & 0 & 1 & 0\\\\0 & 0 & 0 & 0 & 0 & 0 & 0 & 0 & 1\\\\0 & 0 & 0 & 0 & 0 & 0 & 0 & 0 & 0\\\\0 & 0 & 0 & 0 & 0 & 0 & 0 & 0 & 0\\\\0 & 0 & 0 & 0 & 0 & 0 & 0 & 0 & 0\\\\0 & 0 & 0 & 0 & g & 0 & 0 & 0 & 0\\\\0 & 0 & 0 & 0 & 0 & - g & 0 & 0 & 0\\\\0 & 0 & 0 & 0 & 0 & 0 & 0 & 0 & 0\\end{matrix}\\right]$"
      ],
      "text/plain": [
       "Matrix([\n",
       "[0, 0, 0, 0, 0,  0, 1, 0, 0],\n",
       "[0, 0, 0, 0, 0,  0, 0, 1, 0],\n",
       "[0, 0, 0, 0, 0,  0, 0, 0, 1],\n",
       "[0, 0, 0, 0, 0,  0, 0, 0, 0],\n",
       "[0, 0, 0, 0, 0,  0, 0, 0, 0],\n",
       "[0, 0, 0, 0, 0,  0, 0, 0, 0],\n",
       "[0, 0, 0, 0, g,  0, 0, 0, 0],\n",
       "[0, 0, 0, 0, 0, -g, 0, 0, 0],\n",
       "[0, 0, 0, 0, 0,  0, 0, 0, 0]])"
      ]
     },
     "execution_count": 100,
     "metadata": {},
     "output_type": "execute_result"
    }
   ],
   "source": [
    "A_obs"
   ]
  },
  {
   "cell_type": "code",
   "execution_count": 101,
   "metadata": {},
   "outputs": [
    {
     "data": {
      "text/latex": [
       "$\\displaystyle \\left[\\begin{matrix}0 & 0 & 0 & 0\\\\0 & 0 & 0 & 0\\\\0 & 0 & 0 & 0\\\\0 & 0 & 1 & 0\\\\0 & 1 & 0 & 0\\\\1 & 0 & 0 & 0\\\\0 & 0 & 0 & 0\\\\0 & 0 & 0 & 0\\\\0 & 0 & 0 & 1\\end{matrix}\\right]$"
      ],
      "text/plain": [
       "Matrix([\n",
       "[0, 0, 0, 0],\n",
       "[0, 0, 0, 0],\n",
       "[0, 0, 0, 0],\n",
       "[0, 0, 1, 0],\n",
       "[0, 1, 0, 0],\n",
       "[1, 0, 0, 0],\n",
       "[0, 0, 0, 0],\n",
       "[0, 0, 0, 0],\n",
       "[0, 0, 0, 1]])"
      ]
     },
     "execution_count": 101,
     "metadata": {},
     "output_type": "execute_result"
    }
   ],
   "source": [
    "B_obs"
   ]
  },
  {
   "cell_type": "code",
   "execution_count": 98,
   "metadata": {},
   "outputs": [
    {
     "data": {
      "text/latex": [
       "$\\displaystyle \\left[\\begin{matrix}0 & 0 & 0 & 0 & 0 & 0 & \\frac{k_{flow}}{o_{z eq}} & 0 & 0\\\\0 & 0 & 0 & 0 & 0 & 0 & 0 & \\frac{k_{flow}}{o_{z eq}} & 0\\\\0 & 0 & 1 & 0 & 0 & 0 & 0 & 0 & 0\\\\\\frac{1.0 o_{x eq} - 1.0 x_{0}}{\\left(\\left(o_{x eq} - x_{0}\\right)^{2} + \\left(o_{y eq} - y_{0}\\right)^{2} + \\left(o_{z eq} - z_{0}\\right)^{2}\\right)^{0.5}} & \\frac{1.0 o_{y eq} - 1.0 y_{0}}{\\left(\\left(o_{x eq} - x_{0}\\right)^{2} + \\left(o_{y eq} - y_{0}\\right)^{2} + \\left(o_{z eq} - z_{0}\\right)^{2}\\right)^{0.5}} & \\frac{1.0 o_{z eq} - 1.0 z_{0}}{\\left(\\left(o_{x eq} - x_{0}\\right)^{2} + \\left(o_{y eq} - y_{0}\\right)^{2} + \\left(o_{z eq} - z_{0}\\right)^{2}\\right)^{0.5}} & 0 & 0 & 0 & 0 & 0 & 0\\\\\\frac{1.0 o_{x eq} - 1.0 x_{1}}{\\left(\\left(o_{x eq} - x_{1}\\right)^{2} + \\left(o_{y eq} - y_{1}\\right)^{2} + \\left(o_{z eq} - z_{1}\\right)^{2}\\right)^{0.5}} & \\frac{1.0 o_{y eq} - 1.0 y_{1}}{\\left(\\left(o_{x eq} - x_{1}\\right)^{2} + \\left(o_{y eq} - y_{1}\\right)^{2} + \\left(o_{z eq} - z_{1}\\right)^{2}\\right)^{0.5}} & \\frac{1.0 o_{z eq} - 1.0 z_{1}}{\\left(\\left(o_{x eq} - x_{1}\\right)^{2} + \\left(o_{y eq} - y_{1}\\right)^{2} + \\left(o_{z eq} - z_{1}\\right)^{2}\\right)^{0.5}} & 0 & 0 & 0 & 0 & 0 & 0\\\\\\frac{1.0 o_{x eq} - 1.0 x_{2}}{\\left(\\left(o_{x eq} - x_{2}\\right)^{2} + \\left(o_{y eq} - y_{2}\\right)^{2} + \\left(o_{z eq} - z_{2}\\right)^{2}\\right)^{0.5}} & \\frac{1.0 o_{y eq} - 1.0 y_{2}}{\\left(\\left(o_{x eq} - x_{2}\\right)^{2} + \\left(o_{y eq} - y_{2}\\right)^{2} + \\left(o_{z eq} - z_{2}\\right)^{2}\\right)^{0.5}} & \\frac{1.0 o_{z eq} - 1.0 z_{2}}{\\left(\\left(o_{x eq} - x_{2}\\right)^{2} + \\left(o_{y eq} - y_{2}\\right)^{2} + \\left(o_{z eq} - z_{2}\\right)^{2}\\right)^{0.5}} & 0 & 0 & 0 & 0 & 0 & 0\\\\\\frac{1.0 o_{x eq} - 1.0 x_{3}}{\\left(\\left(o_{x eq} - x_{3}\\right)^{2} + \\left(o_{y eq} - y_{3}\\right)^{2} + \\left(o_{z eq} - z_{3}\\right)^{2}\\right)^{0.5}} & \\frac{1.0 o_{y eq} - 1.0 y_{3}}{\\left(\\left(o_{x eq} - x_{3}\\right)^{2} + \\left(o_{y eq} - y_{3}\\right)^{2} + \\left(o_{z eq} - z_{3}\\right)^{2}\\right)^{0.5}} & \\frac{1.0 o_{z eq} - 1.0 z_{3}}{\\left(\\left(o_{x eq} - x_{3}\\right)^{2} + \\left(o_{y eq} - y_{3}\\right)^{2} + \\left(o_{z eq} - z_{3}\\right)^{2}\\right)^{0.5}} & 0 & 0 & 0 & 0 & 0 & 0\\\\\\frac{1.0 o_{x eq} - 1.0 x_{4}}{\\left(\\left(o_{x eq} - x_{4}\\right)^{2} + \\left(o_{y eq} - y_{4}\\right)^{2} + \\left(o_{z eq} - z_{4}\\right)^{2}\\right)^{0.5}} & \\frac{1.0 o_{y eq} - 1.0 y_{4}}{\\left(\\left(o_{x eq} - x_{4}\\right)^{2} + \\left(o_{y eq} - y_{4}\\right)^{2} + \\left(o_{z eq} - z_{4}\\right)^{2}\\right)^{0.5}} & \\frac{1.0 o_{z eq} - 1.0 z_{4}}{\\left(\\left(o_{x eq} - x_{4}\\right)^{2} + \\left(o_{y eq} - y_{4}\\right)^{2} + \\left(o_{z eq} - z_{4}\\right)^{2}\\right)^{0.5}} & 0 & 0 & 0 & 0 & 0 & 0\\\\\\frac{1.0 o_{x eq} - 1.0 x_{5}}{\\left(\\left(o_{x eq} - x_{5}\\right)^{2} + \\left(o_{y eq} - y_{5}\\right)^{2} + \\left(o_{z eq} - z_{5}\\right)^{2}\\right)^{0.5}} & \\frac{1.0 o_{y eq} - 1.0 y_{5}}{\\left(\\left(o_{x eq} - x_{5}\\right)^{2} + \\left(o_{y eq} - y_{5}\\right)^{2} + \\left(o_{z eq} - z_{5}\\right)^{2}\\right)^{0.5}} & \\frac{1.0 o_{z eq} - 1.0 z_{5}}{\\left(\\left(o_{x eq} - x_{5}\\right)^{2} + \\left(o_{y eq} - y_{5}\\right)^{2} + \\left(o_{z eq} - z_{5}\\right)^{2}\\right)^{0.5}} & 0 & 0 & 0 & 0 & 0 & 0\\\\\\frac{1.0 o_{x eq} - 1.0 x_{6}}{\\left(\\left(o_{x eq} - x_{6}\\right)^{2} + \\left(o_{y eq} - y_{6}\\right)^{2} + \\left(o_{z eq} - z_{6}\\right)^{2}\\right)^{0.5}} & \\frac{1.0 o_{y eq} - 1.0 y_{6}}{\\left(\\left(o_{x eq} - x_{6}\\right)^{2} + \\left(o_{y eq} - y_{6}\\right)^{2} + \\left(o_{z eq} - z_{6}\\right)^{2}\\right)^{0.5}} & \\frac{1.0 o_{z eq} - 1.0 z_{6}}{\\left(\\left(o_{x eq} - x_{6}\\right)^{2} + \\left(o_{y eq} - y_{6}\\right)^{2} + \\left(o_{z eq} - z_{6}\\right)^{2}\\right)^{0.5}} & 0 & 0 & 0 & 0 & 0 & 0\\\\\\frac{1.0 o_{x eq} - 1.0 x_{7}}{\\left(\\left(o_{x eq} - x_{7}\\right)^{2} + \\left(o_{y eq} - y_{7}\\right)^{2} + \\left(o_{z eq} - z_{7}\\right)^{2}\\right)^{0.5}} & \\frac{1.0 o_{y eq} - 1.0 y_{7}}{\\left(\\left(o_{x eq} - x_{7}\\right)^{2} + \\left(o_{y eq} - y_{7}\\right)^{2} + \\left(o_{z eq} - z_{7}\\right)^{2}\\right)^{0.5}} & \\frac{1.0 o_{z eq} - 1.0 z_{7}}{\\left(\\left(o_{x eq} - x_{7}\\right)^{2} + \\left(o_{y eq} - y_{7}\\right)^{2} + \\left(o_{z eq} - z_{7}\\right)^{2}\\right)^{0.5}} & 0 & 0 & 0 & 0 & 0 & 0\\end{matrix}\\right]$"
      ],
      "text/plain": [
       "Matrix([\n",
       "[                                                                                     0,                                                                                      0,                                                                                      0, 0, 0, 0, k_flow/o_z_eq,             0, 0],\n",
       "[                                                                                     0,                                                                                      0,                                                                                      0, 0, 0, 0,             0, k_flow/o_z_eq, 0],\n",
       "[                                                                                     0,                                                                                      0,                                                                                      1, 0, 0, 0,             0,             0, 0],\n",
       "[(1.0*o_x_eq - 1.0*x0)*((o_x_eq - x0)**2 + (o_y_eq - y0)**2 + (o_z_eq - z0)**2)**(-0.5), (1.0*o_y_eq - 1.0*y0)*((o_x_eq - x0)**2 + (o_y_eq - y0)**2 + (o_z_eq - z0)**2)**(-0.5), (1.0*o_z_eq - 1.0*z0)*((o_x_eq - x0)**2 + (o_y_eq - y0)**2 + (o_z_eq - z0)**2)**(-0.5), 0, 0, 0,             0,             0, 0],\n",
       "[(1.0*o_x_eq - 1.0*x1)*((o_x_eq - x1)**2 + (o_y_eq - y1)**2 + (o_z_eq - z1)**2)**(-0.5), (1.0*o_y_eq - 1.0*y1)*((o_x_eq - x1)**2 + (o_y_eq - y1)**2 + (o_z_eq - z1)**2)**(-0.5), (1.0*o_z_eq - 1.0*z1)*((o_x_eq - x1)**2 + (o_y_eq - y1)**2 + (o_z_eq - z1)**2)**(-0.5), 0, 0, 0,             0,             0, 0],\n",
       "[(1.0*o_x_eq - 1.0*x2)*((o_x_eq - x2)**2 + (o_y_eq - y2)**2 + (o_z_eq - z2)**2)**(-0.5), (1.0*o_y_eq - 1.0*y2)*((o_x_eq - x2)**2 + (o_y_eq - y2)**2 + (o_z_eq - z2)**2)**(-0.5), (1.0*o_z_eq - 1.0*z2)*((o_x_eq - x2)**2 + (o_y_eq - y2)**2 + (o_z_eq - z2)**2)**(-0.5), 0, 0, 0,             0,             0, 0],\n",
       "[(1.0*o_x_eq - 1.0*x3)*((o_x_eq - x3)**2 + (o_y_eq - y3)**2 + (o_z_eq - z3)**2)**(-0.5), (1.0*o_y_eq - 1.0*y3)*((o_x_eq - x3)**2 + (o_y_eq - y3)**2 + (o_z_eq - z3)**2)**(-0.5), (1.0*o_z_eq - 1.0*z3)*((o_x_eq - x3)**2 + (o_y_eq - y3)**2 + (o_z_eq - z3)**2)**(-0.5), 0, 0, 0,             0,             0, 0],\n",
       "[(1.0*o_x_eq - 1.0*x4)*((o_x_eq - x4)**2 + (o_y_eq - y4)**2 + (o_z_eq - z4)**2)**(-0.5), (1.0*o_y_eq - 1.0*y4)*((o_x_eq - x4)**2 + (o_y_eq - y4)**2 + (o_z_eq - z4)**2)**(-0.5), (1.0*o_z_eq - 1.0*z4)*((o_x_eq - x4)**2 + (o_y_eq - y4)**2 + (o_z_eq - z4)**2)**(-0.5), 0, 0, 0,             0,             0, 0],\n",
       "[(1.0*o_x_eq - 1.0*x5)*((o_x_eq - x5)**2 + (o_y_eq - y5)**2 + (o_z_eq - z5)**2)**(-0.5), (1.0*o_y_eq - 1.0*y5)*((o_x_eq - x5)**2 + (o_y_eq - y5)**2 + (o_z_eq - z5)**2)**(-0.5), (1.0*o_z_eq - 1.0*z5)*((o_x_eq - x5)**2 + (o_y_eq - y5)**2 + (o_z_eq - z5)**2)**(-0.5), 0, 0, 0,             0,             0, 0],\n",
       "[(1.0*o_x_eq - 1.0*x6)*((o_x_eq - x6)**2 + (o_y_eq - y6)**2 + (o_z_eq - z6)**2)**(-0.5), (1.0*o_y_eq - 1.0*y6)*((o_x_eq - x6)**2 + (o_y_eq - y6)**2 + (o_z_eq - z6)**2)**(-0.5), (1.0*o_z_eq - 1.0*z6)*((o_x_eq - x6)**2 + (o_y_eq - y6)**2 + (o_z_eq - z6)**2)**(-0.5), 0, 0, 0,             0,             0, 0],\n",
       "[(1.0*o_x_eq - 1.0*x7)*((o_x_eq - x7)**2 + (o_y_eq - y7)**2 + (o_z_eq - z7)**2)**(-0.5), (1.0*o_y_eq - 1.0*y7)*((o_x_eq - x7)**2 + (o_y_eq - y7)**2 + (o_z_eq - z7)**2)**(-0.5), (1.0*o_z_eq - 1.0*z7)*((o_x_eq - x7)**2 + (o_y_eq - y7)**2 + (o_z_eq - z7)**2)**(-0.5), 0, 0, 0,             0,             0, 0]])"
      ]
     },
     "execution_count": 98,
     "metadata": {},
     "output_type": "execute_result"
    }
   ],
   "source": [
    "C_obs"
   ]
  },
  {
   "cell_type": "code",
   "execution_count": 68,
   "metadata": {},
   "outputs": [
    {
     "data": {
      "text/latex": [
       "$\\displaystyle \\left[\\begin{matrix}0 & - k_{flow} & 0 & 0\\\\k_{flow} & 0 & 0 & 0\\\\0 & 0 & 0 & 0\\\\0 & 0 & 0 & 0\\\\0 & 0 & 0 & 0\\\\0 & 0 & 0 & 0\\\\0 & 0 & 0 & 0\\\\0 & 0 & 0 & 0\\\\0 & 0 & 0 & 0\\\\0 & 0 & 0 & 0\\\\0 & 0 & 0 & 0\\end{matrix}\\right]$"
      ],
      "text/plain": [
       "Matrix([\n",
       "[     0, -k_flow, 0, 0],\n",
       "[k_flow,       0, 0, 0],\n",
       "[     0,       0, 0, 0],\n",
       "[     0,       0, 0, 0],\n",
       "[     0,       0, 0, 0],\n",
       "[     0,       0, 0, 0],\n",
       "[     0,       0, 0, 0],\n",
       "[     0,       0, 0, 0],\n",
       "[     0,       0, 0, 0],\n",
       "[     0,       0, 0, 0],\n",
       "[     0,       0, 0, 0]])"
      ]
     },
     "execution_count": 68,
     "metadata": {},
     "output_type": "execute_result"
    }
   ],
   "source": [
    "D"
   ]
  },
  {
   "cell_type": "code",
   "execution_count": 103,
   "metadata": {},
   "outputs": [],
   "source": [
    "x_obs = sym.Matrix(s) - sym.Matrix(s_eq)\n",
    "u_obs = sym.Matrix(i) - sym.Matrix(i_eq)\n",
    "y_obs = sym.Matrix(o) - h.subs(tuple(zip(s, s_eq))).subs(tuple(zip(i, i_eq)))"
   ]
  },
  {
   "cell_type": "code",
   "execution_count": 105,
   "metadata": {},
   "outputs": [
    {
     "data": {
      "text/latex": [
       "$\\displaystyle \\left[\\begin{matrix}v_{x}\\\\v_{y}\\\\v_{z}\\\\w_{z}\\\\w_{y}\\\\w_{x}\\\\g \\theta\\\\- g \\phi\\\\a_{z} - g\\end{matrix}\\right]$"
      ],
      "text/plain": [
       "Matrix([\n",
       "[    v_x],\n",
       "[    v_y],\n",
       "[    v_z],\n",
       "[    w_z],\n",
       "[    w_y],\n",
       "[    w_x],\n",
       "[g*theta],\n",
       "[ -g*phi],\n",
       "[a_z - g]])"
      ]
     },
     "execution_count": 105,
     "metadata": {},
     "output_type": "execute_result"
    }
   ],
   "source": [
    "A_obs * x_obs + B_obs * u_obs"
   ]
  },
  {
   "cell_type": "code",
   "execution_count": 106,
   "metadata": {},
   "outputs": [
    {
     "data": {
      "text/latex": [
       "$\\displaystyle \\left[\\begin{matrix}- k_{flow} w_{y} + \\frac{k_{flow} v_{x}}{o_{z eq}}\\\\k_{flow} w_{x} + \\frac{k_{flow} v_{y}}{o_{z eq}}\\\\o_{z} - o_{z eq}\\\\\\frac{\\left(o_{x} - o_{x eq}\\right) \\left(1.0 o_{x eq} - 1.0 x_{0}\\right)}{\\left(\\left(o_{x eq} - x_{0}\\right)^{2} + \\left(o_{y eq} - y_{0}\\right)^{2} + \\left(o_{z eq} - z_{0}\\right)^{2}\\right)^{0.5}} + \\frac{\\left(o_{y} - o_{y eq}\\right) \\left(1.0 o_{y eq} - 1.0 y_{0}\\right)}{\\left(\\left(o_{x eq} - x_{0}\\right)^{2} + \\left(o_{y eq} - y_{0}\\right)^{2} + \\left(o_{z eq} - z_{0}\\right)^{2}\\right)^{0.5}} + \\frac{\\left(o_{z} - o_{z eq}\\right) \\left(1.0 o_{z eq} - 1.0 z_{0}\\right)}{\\left(\\left(o_{x eq} - x_{0}\\right)^{2} + \\left(o_{y eq} - y_{0}\\right)^{2} + \\left(o_{z eq} - z_{0}\\right)^{2}\\right)^{0.5}}\\\\\\frac{\\left(o_{x} - o_{x eq}\\right) \\left(1.0 o_{x eq} - 1.0 x_{1}\\right)}{\\left(\\left(o_{x eq} - x_{1}\\right)^{2} + \\left(o_{y eq} - y_{1}\\right)^{2} + \\left(o_{z eq} - z_{1}\\right)^{2}\\right)^{0.5}} + \\frac{\\left(o_{y} - o_{y eq}\\right) \\left(1.0 o_{y eq} - 1.0 y_{1}\\right)}{\\left(\\left(o_{x eq} - x_{1}\\right)^{2} + \\left(o_{y eq} - y_{1}\\right)^{2} + \\left(o_{z eq} - z_{1}\\right)^{2}\\right)^{0.5}} + \\frac{\\left(o_{z} - o_{z eq}\\right) \\left(1.0 o_{z eq} - 1.0 z_{1}\\right)}{\\left(\\left(o_{x eq} - x_{1}\\right)^{2} + \\left(o_{y eq} - y_{1}\\right)^{2} + \\left(o_{z eq} - z_{1}\\right)^{2}\\right)^{0.5}}\\\\\\frac{\\left(o_{x} - o_{x eq}\\right) \\left(1.0 o_{x eq} - 1.0 x_{2}\\right)}{\\left(\\left(o_{x eq} - x_{2}\\right)^{2} + \\left(o_{y eq} - y_{2}\\right)^{2} + \\left(o_{z eq} - z_{2}\\right)^{2}\\right)^{0.5}} + \\frac{\\left(o_{y} - o_{y eq}\\right) \\left(1.0 o_{y eq} - 1.0 y_{2}\\right)}{\\left(\\left(o_{x eq} - x_{2}\\right)^{2} + \\left(o_{y eq} - y_{2}\\right)^{2} + \\left(o_{z eq} - z_{2}\\right)^{2}\\right)^{0.5}} + \\frac{\\left(o_{z} - o_{z eq}\\right) \\left(1.0 o_{z eq} - 1.0 z_{2}\\right)}{\\left(\\left(o_{x eq} - x_{2}\\right)^{2} + \\left(o_{y eq} - y_{2}\\right)^{2} + \\left(o_{z eq} - z_{2}\\right)^{2}\\right)^{0.5}}\\\\\\frac{\\left(o_{x} - o_{x eq}\\right) \\left(1.0 o_{x eq} - 1.0 x_{3}\\right)}{\\left(\\left(o_{x eq} - x_{3}\\right)^{2} + \\left(o_{y eq} - y_{3}\\right)^{2} + \\left(o_{z eq} - z_{3}\\right)^{2}\\right)^{0.5}} + \\frac{\\left(o_{y} - o_{y eq}\\right) \\left(1.0 o_{y eq} - 1.0 y_{3}\\right)}{\\left(\\left(o_{x eq} - x_{3}\\right)^{2} + \\left(o_{y eq} - y_{3}\\right)^{2} + \\left(o_{z eq} - z_{3}\\right)^{2}\\right)^{0.5}} + \\frac{\\left(o_{z} - o_{z eq}\\right) \\left(1.0 o_{z eq} - 1.0 z_{3}\\right)}{\\left(\\left(o_{x eq} - x_{3}\\right)^{2} + \\left(o_{y eq} - y_{3}\\right)^{2} + \\left(o_{z eq} - z_{3}\\right)^{2}\\right)^{0.5}}\\\\\\frac{\\left(o_{x} - o_{x eq}\\right) \\left(1.0 o_{x eq} - 1.0 x_{4}\\right)}{\\left(\\left(o_{x eq} - x_{4}\\right)^{2} + \\left(o_{y eq} - y_{4}\\right)^{2} + \\left(o_{z eq} - z_{4}\\right)^{2}\\right)^{0.5}} + \\frac{\\left(o_{y} - o_{y eq}\\right) \\left(1.0 o_{y eq} - 1.0 y_{4}\\right)}{\\left(\\left(o_{x eq} - x_{4}\\right)^{2} + \\left(o_{y eq} - y_{4}\\right)^{2} + \\left(o_{z eq} - z_{4}\\right)^{2}\\right)^{0.5}} + \\frac{\\left(o_{z} - o_{z eq}\\right) \\left(1.0 o_{z eq} - 1.0 z_{4}\\right)}{\\left(\\left(o_{x eq} - x_{4}\\right)^{2} + \\left(o_{y eq} - y_{4}\\right)^{2} + \\left(o_{z eq} - z_{4}\\right)^{2}\\right)^{0.5}}\\\\\\frac{\\left(o_{x} - o_{x eq}\\right) \\left(1.0 o_{x eq} - 1.0 x_{5}\\right)}{\\left(\\left(o_{x eq} - x_{5}\\right)^{2} + \\left(o_{y eq} - y_{5}\\right)^{2} + \\left(o_{z eq} - z_{5}\\right)^{2}\\right)^{0.5}} + \\frac{\\left(o_{y} - o_{y eq}\\right) \\left(1.0 o_{y eq} - 1.0 y_{5}\\right)}{\\left(\\left(o_{x eq} - x_{5}\\right)^{2} + \\left(o_{y eq} - y_{5}\\right)^{2} + \\left(o_{z eq} - z_{5}\\right)^{2}\\right)^{0.5}} + \\frac{\\left(o_{z} - o_{z eq}\\right) \\left(1.0 o_{z eq} - 1.0 z_{5}\\right)}{\\left(\\left(o_{x eq} - x_{5}\\right)^{2} + \\left(o_{y eq} - y_{5}\\right)^{2} + \\left(o_{z eq} - z_{5}\\right)^{2}\\right)^{0.5}}\\\\\\frac{\\left(o_{x} - o_{x eq}\\right) \\left(1.0 o_{x eq} - 1.0 x_{6}\\right)}{\\left(\\left(o_{x eq} - x_{6}\\right)^{2} + \\left(o_{y eq} - y_{6}\\right)^{2} + \\left(o_{z eq} - z_{6}\\right)^{2}\\right)^{0.5}} + \\frac{\\left(o_{y} - o_{y eq}\\right) \\left(1.0 o_{y eq} - 1.0 y_{6}\\right)}{\\left(\\left(o_{x eq} - x_{6}\\right)^{2} + \\left(o_{y eq} - y_{6}\\right)^{2} + \\left(o_{z eq} - z_{6}\\right)^{2}\\right)^{0.5}} + \\frac{\\left(o_{z} - o_{z eq}\\right) \\left(1.0 o_{z eq} - 1.0 z_{6}\\right)}{\\left(\\left(o_{x eq} - x_{6}\\right)^{2} + \\left(o_{y eq} - y_{6}\\right)^{2} + \\left(o_{z eq} - z_{6}\\right)^{2}\\right)^{0.5}}\\\\\\frac{\\left(o_{x} - o_{x eq}\\right) \\left(1.0 o_{x eq} - 1.0 x_{7}\\right)}{\\left(\\left(o_{x eq} - x_{7}\\right)^{2} + \\left(o_{y eq} - y_{7}\\right)^{2} + \\left(o_{z eq} - z_{7}\\right)^{2}\\right)^{0.5}} + \\frac{\\left(o_{y} - o_{y eq}\\right) \\left(1.0 o_{y eq} - 1.0 y_{7}\\right)}{\\left(\\left(o_{x eq} - x_{7}\\right)^{2} + \\left(o_{y eq} - y_{7}\\right)^{2} + \\left(o_{z eq} - z_{7}\\right)^{2}\\right)^{0.5}} + \\frac{\\left(o_{z} - o_{z eq}\\right) \\left(1.0 o_{z eq} - 1.0 z_{7}\\right)}{\\left(\\left(o_{x eq} - x_{7}\\right)^{2} + \\left(o_{y eq} - y_{7}\\right)^{2} + \\left(o_{z eq} - z_{7}\\right)^{2}\\right)^{0.5}}\\end{matrix}\\right]$"
      ],
      "text/plain": [
       "Matrix([\n",
       "[                                                                                                                                                                                                                                                                                      -k_flow*w_y + k_flow*v_x/o_z_eq],\n",
       "[                                                                                                                                                                                                                                                                                       k_flow*w_x + k_flow*v_y/o_z_eq],\n",
       "[                                                                                                                                                                                                                                                                                                         o_z - o_z_eq],\n",
       "[(o_x - o_x_eq)*(1.0*o_x_eq - 1.0*x0)*((o_x_eq - x0)**2 + (o_y_eq - y0)**2 + (o_z_eq - z0)**2)**(-0.5) + (o_y - o_y_eq)*(1.0*o_y_eq - 1.0*y0)*((o_x_eq - x0)**2 + (o_y_eq - y0)**2 + (o_z_eq - z0)**2)**(-0.5) + (o_z - o_z_eq)*(1.0*o_z_eq - 1.0*z0)*((o_x_eq - x0)**2 + (o_y_eq - y0)**2 + (o_z_eq - z0)**2)**(-0.5)],\n",
       "[(o_x - o_x_eq)*(1.0*o_x_eq - 1.0*x1)*((o_x_eq - x1)**2 + (o_y_eq - y1)**2 + (o_z_eq - z1)**2)**(-0.5) + (o_y - o_y_eq)*(1.0*o_y_eq - 1.0*y1)*((o_x_eq - x1)**2 + (o_y_eq - y1)**2 + (o_z_eq - z1)**2)**(-0.5) + (o_z - o_z_eq)*(1.0*o_z_eq - 1.0*z1)*((o_x_eq - x1)**2 + (o_y_eq - y1)**2 + (o_z_eq - z1)**2)**(-0.5)],\n",
       "[(o_x - o_x_eq)*(1.0*o_x_eq - 1.0*x2)*((o_x_eq - x2)**2 + (o_y_eq - y2)**2 + (o_z_eq - z2)**2)**(-0.5) + (o_y - o_y_eq)*(1.0*o_y_eq - 1.0*y2)*((o_x_eq - x2)**2 + (o_y_eq - y2)**2 + (o_z_eq - z2)**2)**(-0.5) + (o_z - o_z_eq)*(1.0*o_z_eq - 1.0*z2)*((o_x_eq - x2)**2 + (o_y_eq - y2)**2 + (o_z_eq - z2)**2)**(-0.5)],\n",
       "[(o_x - o_x_eq)*(1.0*o_x_eq - 1.0*x3)*((o_x_eq - x3)**2 + (o_y_eq - y3)**2 + (o_z_eq - z3)**2)**(-0.5) + (o_y - o_y_eq)*(1.0*o_y_eq - 1.0*y3)*((o_x_eq - x3)**2 + (o_y_eq - y3)**2 + (o_z_eq - z3)**2)**(-0.5) + (o_z - o_z_eq)*(1.0*o_z_eq - 1.0*z3)*((o_x_eq - x3)**2 + (o_y_eq - y3)**2 + (o_z_eq - z3)**2)**(-0.5)],\n",
       "[(o_x - o_x_eq)*(1.0*o_x_eq - 1.0*x4)*((o_x_eq - x4)**2 + (o_y_eq - y4)**2 + (o_z_eq - z4)**2)**(-0.5) + (o_y - o_y_eq)*(1.0*o_y_eq - 1.0*y4)*((o_x_eq - x4)**2 + (o_y_eq - y4)**2 + (o_z_eq - z4)**2)**(-0.5) + (o_z - o_z_eq)*(1.0*o_z_eq - 1.0*z4)*((o_x_eq - x4)**2 + (o_y_eq - y4)**2 + (o_z_eq - z4)**2)**(-0.5)],\n",
       "[(o_x - o_x_eq)*(1.0*o_x_eq - 1.0*x5)*((o_x_eq - x5)**2 + (o_y_eq - y5)**2 + (o_z_eq - z5)**2)**(-0.5) + (o_y - o_y_eq)*(1.0*o_y_eq - 1.0*y5)*((o_x_eq - x5)**2 + (o_y_eq - y5)**2 + (o_z_eq - z5)**2)**(-0.5) + (o_z - o_z_eq)*(1.0*o_z_eq - 1.0*z5)*((o_x_eq - x5)**2 + (o_y_eq - y5)**2 + (o_z_eq - z5)**2)**(-0.5)],\n",
       "[(o_x - o_x_eq)*(1.0*o_x_eq - 1.0*x6)*((o_x_eq - x6)**2 + (o_y_eq - y6)**2 + (o_z_eq - z6)**2)**(-0.5) + (o_y - o_y_eq)*(1.0*o_y_eq - 1.0*y6)*((o_x_eq - x6)**2 + (o_y_eq - y6)**2 + (o_z_eq - z6)**2)**(-0.5) + (o_z - o_z_eq)*(1.0*o_z_eq - 1.0*z6)*((o_x_eq - x6)**2 + (o_y_eq - y6)**2 + (o_z_eq - z6)**2)**(-0.5)],\n",
       "[(o_x - o_x_eq)*(1.0*o_x_eq - 1.0*x7)*((o_x_eq - x7)**2 + (o_y_eq - y7)**2 + (o_z_eq - z7)**2)**(-0.5) + (o_y - o_y_eq)*(1.0*o_y_eq - 1.0*y7)*((o_x_eq - x7)**2 + (o_y_eq - y7)**2 + (o_z_eq - z7)**2)**(-0.5) + (o_z - o_z_eq)*(1.0*o_z_eq - 1.0*z7)*((o_x_eq - x7)**2 + (o_y_eq - y7)**2 + (o_z_eq - z7)**2)**(-0.5)]])"
      ]
     },
     "execution_count": 106,
     "metadata": {},
     "output_type": "execute_result"
    }
   ],
   "source": [
    "C_obs * x_obs + D_obs * u_obs"
   ]
  },
  {
   "cell_type": "markdown",
   "metadata": {},
   "source": [
    "# 3. STD tests for observer"
   ]
  },
  {
   "cell_type": "code",
   "execution_count": 110,
   "metadata": {},
   "outputs": [
    {
     "name": "stdout",
     "output_type": "stream",
     "text": [
      "dt = 0.0100\n"
     ]
    }
   ],
   "source": [
    "data = load_hardware_data(\n",
    "    'variance_data.json',  # <-- replace with name of file with hardware data\n",
    "    t_min_offset=3.,       # <-- (optional) replace with how many seconds of data to ignore at start\n",
    "    t_max_offset=3.,       # <-- (optional) replace with how many seconds of data to ignore at end\n",
    "    only_in_flight=True,   # <-- (optional) only loads data for which o_z_des is positive\n",
    ")\n",
    "\n",
    "# time\n",
    "t = data['time']\n",
    "\n",
    "# states\n",
    "o_x = data['ae483log.o_x']\n",
    "o_y = data['ae483log.o_y']\n",
    "o_z = data['ae483log.o_z']\n",
    "psi = data['ae483log.psi']\n",
    "theta = data['ae483log.theta']\n",
    "phi = data['ae483log.phi']\n",
    "v_x = data['ae483log.v_x']\n",
    "v_y = data['ae483log.v_y']\n",
    "v_z = data['ae483log.v_z']\n",
    "\n",
    "# inputs\n",
    "w_x = data['ae483log.w_x']\n",
    "w_y = data['ae483log.w_y']\n",
    "w_z = data['ae483log.w_z']\n",
    "a_z = data['ae483log.a_z']\n",
    "\n",
    "# outputs\n",
    "n_x = data['ae483log.n_x']\n",
    "n_y = data['ae483log.n_y']\n",
    "r = data['ae483log.r']\n",
    "\n",
    "# loco distances\n",
    "d0 = data['ae483log.d0']\n",
    "d1 = data['ae483log.d1']\n",
    "d2 = data['ae483log.d2']\n",
    "d3 = data['ae483log.d3']\n",
    "d4 = data['ae483log.d4']\n",
    "d5 = data['ae483log.d5']\n",
    "d6 = data['ae483log.d6']\n",
    "d7 = data['ae483log.d7']\n",
    "\n",
    "dt = t[1] - t[0]\n",
    "print(f'dt = {dt:.4f}')\n",
    "\n",
    "# Optical flow constant (do not modify)\n",
    "k_flow_val = 0.01 * 30.0 / np.deg2rad(4.2)\n",
    "\n",
    "# Equilibrium value of o_z\n",
    "o_z_eq_val = 0.5 # <-- FIXME"
   ]
  },
  {
   "cell_type": "markdown",
   "id": "7a857dab",
   "metadata": {},
   "source": [
    "## 4.2 Error in linearized equations of motion"
   ]
  },
  {
   "cell_type": "markdown",
   "id": "24c0503a",
   "metadata": {},
   "source": [
    "### 4.2.1 Error in linear model of $\\dot{o}_x$"
   ]
  },
  {
   "cell_type": "markdown",
   "id": "80fb1ee1",
   "metadata": {},
   "source": [
    "Approximate $\\dot{o}_x$ by finite difference and call this \"ground truth.\""
   ]
  },
  {
   "cell_type": "code",
   "execution_count": null,
   "id": "c655d831",
   "metadata": {},
   "outputs": [],
   "source": [
    "o_x_dot_true = (o_x[1:] - o_x[:-1]) / dt"
   ]
  },
  {
   "cell_type": "markdown",
   "id": "cffed3f9",
   "metadata": {},
   "source": [
    "Remember that, because of the way it is computed, the length of the finite difference approximation `o_x_dot_true` is one less than the length of `o_x` (and of `t`):"
   ]
  },
  {
   "cell_type": "code",
   "execution_count": null,
   "id": "5c3e24b2",
   "metadata": {},
   "outputs": [],
   "source": [
    "print(f'len(o_x_dot_true) = {len(o_x_dot_true)}')\n",
    "print(f'         len(o_x) = {len(o_x)}')\n",
    "print(f'           len(t) = {len(t)}')"
   ]
  },
  {
   "cell_type": "markdown",
   "id": "55a2f359",
   "metadata": {},
   "source": [
    "Predict $\\dot{o}_x$ with linearized equations of motion.\n",
    "\n",
    "In particular, note that the first element of $\\dot{x}$ is $\\dot{o}_x$, and that the first element of $Ax+Bu$ is $v_x$. So, our state-space model tells us that $\\dot{o}_x \\approx v_x$."
   ]
  },
  {
   "cell_type": "code",
   "execution_count": null,
   "id": "c1a09a61",
   "metadata": {},
   "outputs": [],
   "source": [
    "o_x_dot_predicted = v_x"
   ]
  },
  {
   "cell_type": "markdown",
   "id": "b6b73661",
   "metadata": {},
   "source": [
    "Compare the true value and the predicted values of $\\dot{o}_x$ in a plot."
   ]
  },
  {
   "cell_type": "code",
   "execution_count": null,
   "id": "605896b2",
   "metadata": {},
   "outputs": [],
   "source": [
    "plt.figure(figsize=(10, 5))\n",
    "plt.plot(t[:-1], o_x_dot_true, label='$\\dot{o}_x$ (true)', linewidth=1)\n",
    "plt.plot(t, o_x_dot_predicted, '--', label='$\\dot{o}_x$ (predicted)', linewidth=2)\n",
    "plt.legend(fontsize=14)\n",
    "plt.xticks(fontsize=14)\n",
    "plt.yticks(fontsize=14)\n",
    "plt.xlabel('time (s)', fontsize=14)\n",
    "plt.show()"
   ]
  },
  {
   "cell_type": "markdown",
   "id": "d4e3ecb2",
   "metadata": {},
   "source": [
    "Compute the error in the linear model, i.e., the difference between the predicted and true values of $\\dot{o}_x$."
   ]
  },
  {
   "cell_type": "code",
   "execution_count": null,
   "id": "8f967476",
   "metadata": {},
   "outputs": [],
   "source": [
    "o_x_dot_err = o_x_dot_predicted[:-1] - o_x_dot_true"
   ]
  },
  {
   "cell_type": "markdown",
   "id": "07fc4ae0",
   "metadata": {},
   "source": [
    "Plot a histogram of the error, showing mean and standard deviation."
   ]
  },
  {
   "cell_type": "code",
   "execution_count": null,
   "id": "2e297d61",
   "metadata": {},
   "outputs": [],
   "source": [
    "plt.figure(figsize=(5, 5))\n",
    "plt.hist(o_x_dot_err, 50)\n",
    "plt.xlabel('error', fontsize=14)\n",
    "plt.ylabel('count', fontsize=14)\n",
    "plt.xticks(fontsize=14)\n",
    "plt.yticks(fontsize=14)\n",
    "plt.title(\n",
    "    'Error in prediction of $\\dot{o}_x$\\n' +\n",
    "    f'(mean = {np.mean(o_x_dot_err):6.3f}, std = {np.std(o_x_dot_err):6.3f})',\n",
    "    fontsize=14,\n",
    ")\n",
    "plt.show()"
   ]
  },
  {
   "cell_type": "markdown",
   "id": "0882bc72",
   "metadata": {},
   "source": [
    "### 4.2.2 Error in linear model of $\\dot{o}_y$"
   ]
  },
  {
   "cell_type": "code",
   "execution_count": null,
   "id": "67383d67",
   "metadata": {},
   "outputs": [],
   "source": [
    "o_y_dot_true = (o_y[1:] - o_y[:-1]) / dt\n",
    "\n",
    "print(f'len(o_y_dot_true) = {len(o_y_dot_true)}')\n",
    "print(f'         len(o_y) = {len(o_y)}')\n",
    "print(f'           len(t) = {len(t)}')\n",
    "\n",
    "o_y_dot_predicted = v_y\n",
    "\n",
    "plt.figure(figsize=(10, 5))\n",
    "plt.plot(t[:-1], o_y_dot_true, label='$\\dot{o}_y$ (true)', linewidth=1)\n",
    "plt.plot(t, o_y_dot_predicted, '--', label='$\\dot{o}_y$ (predicted)', linewidth=2)\n",
    "plt.legend(fontsize=14)\n",
    "plt.xticks(fontsize=14)\n",
    "plt.yticks(fontsize=14)\n",
    "plt.xlabel('time (s)', fontsize=14)\n",
    "plt.show()\n",
    "\n",
    "o_y_dot_err = o_y_dot_predicted[:-1] - o_y_dot_true"
   ]
  },
  {
   "cell_type": "code",
   "execution_count": null,
   "id": "730b8af6",
   "metadata": {},
   "outputs": [],
   "source": [
    "#Histogram\n",
    "plt.figure(figsize=(5, 5))\n",
    "plt.hist(o_y_dot_err, 50)\n",
    "plt.xlabel('error', fontsize=14)\n",
    "plt.ylabel('count', fontsize=14)\n",
    "plt.xticks(fontsize=14)\n",
    "plt.yticks(fontsize=14)\n",
    "plt.title(\n",
    "    'Error in prediction of $\\dot{o}_y$\\n' +\n",
    "    f'(mean = {np.mean(o_y_dot_err):6.3f}, std = {np.std(o_y_dot_err):6.3f})',\n",
    "    fontsize=14,\n",
    ")\n",
    "plt.show()"
   ]
  },
  {
   "cell_type": "markdown",
   "id": "87eb8924",
   "metadata": {},
   "source": [
    "### 4.2.3 Error in linear model of $\\dot{o}_z$"
   ]
  },
  {
   "cell_type": "code",
   "execution_count": null,
   "id": "06b1533c",
   "metadata": {},
   "outputs": [],
   "source": [
    "o_z_dot_true = (o_z[1:] - o_z[:-1]) / dt\n",
    "\n",
    "print(f'len(o_z_dot_true) = {len(o_z_dot_true)}')\n",
    "print(f'         len(o_z) = {len(o_z)}')\n",
    "print(f'           len(t) = {len(t)}')\n",
    "\n",
    "o_z_dot_predicted = v_z\n",
    "\n",
    "plt.figure(figsize=(10, 5))\n",
    "plt.plot(t[:-1], o_z_dot_true, label='$\\dot{o}_z$ (true)', linewidth=1)\n",
    "plt.plot(t, o_z_dot_predicted, '--', label='$\\dot{o}_z$ (predicted)', linewidth=2)\n",
    "plt.legend(fontsize=14)\n",
    "plt.xticks(fontsize=14)\n",
    "plt.yticks(fontsize=14)\n",
    "plt.xlabel('time (s)', fontsize=14)\n",
    "plt.show()\n",
    "\n",
    "o_z_dot_err = o_z_dot_predicted[:-1] - o_z_dot_true"
   ]
  },
  {
   "cell_type": "code",
   "execution_count": null,
   "id": "24eab762",
   "metadata": {},
   "outputs": [],
   "source": [
    "#Histogram\n",
    "plt.figure(figsize=(5, 5))\n",
    "plt.hist(o_z_dot_err, 50)\n",
    "plt.xlabel('error', fontsize=14)\n",
    "plt.ylabel('count', fontsize=14)\n",
    "plt.xticks(fontsize=14)\n",
    "plt.yticks(fontsize=14)\n",
    "plt.title(\n",
    "    'Error in prediction of $\\dot{o}_z$\\n' +\n",
    "    f'(mean = {np.mean(o_z_dot_err):6.3f}, std = {np.std(o_z_dot_err):6.3f})',\n",
    "    fontsize=14,\n",
    ")\n",
    "plt.show()"
   ]
  },
  {
   "cell_type": "markdown",
   "id": "e4859dec",
   "metadata": {},
   "source": [
    "### 4.2.4 Error in linear model of $\\dot{\\psi}$"
   ]
  },
  {
   "cell_type": "code",
   "execution_count": null,
   "id": "c758ad8a",
   "metadata": {},
   "outputs": [],
   "source": [
    "psi_dot_true = (psi[1:] - psi[:-1]) / dt\n",
    "\n",
    "print(f'len(psi_dot_true) = {len(psi_dot_true)}')\n",
    "print(f'         len(psi) = {len(psi)}')\n",
    "print(f'           len(t) = {len(t)}')\n",
    "\n",
    "psi_dot_predicted = w_z\n",
    "\n",
    "plt.figure(figsize=(10, 5))\n",
    "plt.plot(t[:-1], psi_dot_true, label='$\\dot{\\psi}$ (true)', linewidth=1)\n",
    "plt.plot(t, psi_dot_predicted, '--', label='$\\dot{\\psi}$ (predicted)', linewidth=2)\n",
    "plt.legend(fontsize=14)\n",
    "plt.xticks(fontsize=14)\n",
    "plt.yticks(fontsize=14)\n",
    "plt.xlabel('time (s)', fontsize=14)\n",
    "plt.show()\n",
    "\n",
    "psi_dot_err = psi_dot_predicted[:-1] - psi_dot_true"
   ]
  },
  {
   "cell_type": "code",
   "execution_count": null,
   "id": "a0e18fc8",
   "metadata": {},
   "outputs": [],
   "source": [
    "#Histogram\n",
    "plt.figure(figsize=(5, 5))\n",
    "plt.hist(psi_dot_err, 50)\n",
    "plt.xlabel('error', fontsize=14)\n",
    "plt.ylabel('count', fontsize=14)\n",
    "plt.xticks(fontsize=14)\n",
    "plt.yticks(fontsize=14)\n",
    "plt.title(\n",
    "    'Error in prediction of $\\dot{\\psi}$\\n' +\n",
    "    f'(mean = {np.mean(psi_dot_err):6.3f}, std = {np.std(psi_dot_err):6.3f})',\n",
    "    fontsize=14,\n",
    ")\n",
    "plt.show()"
   ]
  },
  {
   "cell_type": "markdown",
   "id": "5b287bdd",
   "metadata": {},
   "source": [
    "### 4.2.5 Error in linear model of $\\dot{\\theta}$"
   ]
  },
  {
   "cell_type": "code",
   "execution_count": null,
   "id": "d65a1d61",
   "metadata": {},
   "outputs": [],
   "source": [
    "theta_dot_true = (theta[1:] - theta[:-1]) / dt\n",
    "\n",
    "print(f'len(theta_dot_true) = {len(theta_dot_true)}')\n",
    "print(f'         len(theta) = {len(theta)}')\n",
    "print(f'           len(t) = {len(t)}')\n",
    "\n",
    "theta_dot_predicted = w_y\n",
    "\n",
    "plt.figure(figsize=(10, 5))\n",
    "plt.plot(t[:-1], theta_dot_true, label='$\\dot{\\Theta}$ (true)', linewidth=1)\n",
    "plt.plot(t, theta_dot_predicted, '--', label='$\\dot{\\Theta}$ (predicted)', linewidth=2)\n",
    "plt.legend(fontsize=14)\n",
    "plt.xticks(fontsize=14)\n",
    "plt.yticks(fontsize=14)\n",
    "plt.xlabel('time (s)', fontsize=14)\n",
    "plt.show()\n",
    "\n",
    "theta_dot_err = theta_dot_predicted[:-1] - theta_dot_true"
   ]
  },
  {
   "cell_type": "code",
   "execution_count": null,
   "id": "13998bc7",
   "metadata": {},
   "outputs": [],
   "source": [
    "#Histogram\n",
    "plt.figure(figsize=(5, 5))\n",
    "plt.hist(theta_dot_err, 50)\n",
    "plt.xlabel('error', fontsize=14)\n",
    "plt.ylabel('count', fontsize=14)\n",
    "plt.xticks(fontsize=14)\n",
    "plt.yticks(fontsize=14)\n",
    "plt.title(\n",
    "    'Error in prediction of $\\dot{\\Theta}$\\n' +\n",
    "    f'(mean = {np.mean(theta_dot_err):6.3f}, std = {np.std(theta_dot_err):6.3f})',\n",
    "    fontsize=14,\n",
    ")\n",
    "plt.show()"
   ]
  },
  {
   "cell_type": "markdown",
   "id": "316fe991",
   "metadata": {},
   "source": [
    "### 4.2.6 Error in linear model of $\\dot{\\phi}$"
   ]
  },
  {
   "cell_type": "code",
   "execution_count": null,
   "id": "0f38a6ad",
   "metadata": {},
   "outputs": [],
   "source": [
    "phi_dot_true = (phi[1:] - phi[:-1]) / dt\n",
    "\n",
    "print(f'len(phi_dot_true) = {len(phi_dot_true)}')\n",
    "print(f'         len(phi) = {len(phi)}')\n",
    "print(f'           len(t) = {len(t)}')\n",
    "\n",
    "phi_dot_predicted = w_x\n",
    "\n",
    "plt.figure(figsize=(10, 5))\n",
    "plt.plot(t[:-1], phi_dot_true, label='$\\dot{\\phi}$ (true)', linewidth=1)\n",
    "plt.plot(t, phi_dot_predicted, '--', label='$\\dot{\\phi}$ (predicted)', linewidth=2)\n",
    "plt.legend(fontsize=14)\n",
    "plt.xticks(fontsize=14)\n",
    "plt.yticks(fontsize=14)\n",
    "plt.xlabel('time (s)', fontsize=14)\n",
    "plt.show()\n",
    "\n",
    "phi_dot_err = phi_dot_predicted[:-1] - phi_dot_true"
   ]
  },
  {
   "cell_type": "code",
   "execution_count": null,
   "id": "866d196c",
   "metadata": {},
   "outputs": [],
   "source": [
    "#Histogram\n",
    "plt.figure(figsize=(5, 5))\n",
    "plt.hist(phi_dot_err, 50)\n",
    "plt.xlabel('error', fontsize=14)\n",
    "plt.ylabel('count', fontsize=14)\n",
    "plt.xticks(fontsize=14)\n",
    "plt.yticks(fontsize=14)\n",
    "plt.title(\n",
    "    'Error in prediction of $\\dot{\\phi}$\\n' +\n",
    "    f'(mean = {np.mean(phi_dot_err):6.3f}, std = {np.std(phi_dot_err):6.3f})',\n",
    "    fontsize=14,\n",
    ")\n",
    "plt.show()"
   ]
  },
  {
   "cell_type": "markdown",
   "id": "fe1ad062",
   "metadata": {},
   "source": [
    "### 4.2.7 Error in linear model of $\\dot{v}_x$"
   ]
  },
  {
   "cell_type": "code",
   "execution_count": null,
   "id": "8a72bf48",
   "metadata": {},
   "outputs": [],
   "source": [
    "v_x_dot_true = (v_x[1:] - v_x[:-1]) / dt\n",
    "\n",
    "print(f'len(v_x_dot_true) = {len(v_x_dot_true)}')\n",
    "print(f'         len(v_x) = {len(v_x)}')\n",
    "print(f'           len(t) = {len(t)}')\n",
    "\n",
    "v_x_dot_predicted = g*theta\n",
    "\n",
    "plt.figure(figsize=(10, 5))\n",
    "plt.plot(t[:-1], v_x_dot_true, label='$\\dot{v}_x$ (true)', linewidth=1)\n",
    "plt.plot(t, v_x_dot_predicted, '--', label='$\\dot{v}_x$ (predicted)', linewidth=2)\n",
    "plt.legend(fontsize=14)\n",
    "plt.xticks(fontsize=14)\n",
    "plt.yticks(fontsize=14)\n",
    "plt.xlabel('time (s)', fontsize=14)\n",
    "plt.show()\n",
    "\n",
    "v_x_dot_err = v_x_dot_predicted[:-1] - v_x_dot_true"
   ]
  },
  {
   "cell_type": "code",
   "execution_count": null,
   "id": "1b70dc86",
   "metadata": {},
   "outputs": [],
   "source": [
    "#Histogram\n",
    "plt.figure(figsize=(5, 5))\n",
    "plt.hist(v_x_dot_err, 50)\n",
    "plt.xlabel('error', fontsize=14)\n",
    "plt.ylabel('count', fontsize=14)\n",
    "plt.xticks(fontsize=14)\n",
    "plt.yticks(fontsize=14)\n",
    "plt.title(\n",
    "    'Error in prediction of $\\dot{V}_x$\\n' +\n",
    "    f'(mean = {np.mean(v_x_dot_err):6.3f}, std = {np.std(v_x_dot_err):6.3f})',\n",
    "    fontsize=14,\n",
    ")\n",
    "plt.show()"
   ]
  },
  {
   "cell_type": "markdown",
   "id": "7d1119e9",
   "metadata": {},
   "source": [
    "### 4.2.8 Error in linear model of $\\dot{v}_y$"
   ]
  },
  {
   "cell_type": "code",
   "execution_count": null,
   "id": "43221f19",
   "metadata": {},
   "outputs": [],
   "source": [
    "v_y_dot_true = (v_y[1:] - v_y[:-1]) / dt\n",
    "\n",
    "print(f'len(v_y_dot_true) = {len(v_y_dot_true)}')\n",
    "print(f'         len(v_y) = {len(v_y)}')\n",
    "print(f'           len(t) = {len(t)}')\n",
    "\n",
    "v_y_dot_predicted = -g*phi\n",
    "\n",
    "plt.figure(figsize=(10, 5))\n",
    "plt.plot(t[:-1], v_y_dot_true, label='$\\dot{v}_y$ (true)', linewidth=1)\n",
    "plt.plot(t, v_y_dot_predicted, '--', label='$\\dot{v}_y$ (predicted)', linewidth=2)\n",
    "plt.legend(fontsize=14)\n",
    "plt.xticks(fontsize=14)\n",
    "plt.yticks(fontsize=14)\n",
    "plt.xlabel('time (s)', fontsize=14)\n",
    "plt.show()\n",
    "\n",
    "v_y_dot_err = v_y_dot_predicted[:-1] - v_y_dot_true"
   ]
  },
  {
   "cell_type": "code",
   "execution_count": null,
   "id": "e11ee49e",
   "metadata": {},
   "outputs": [],
   "source": [
    "#Histogram\n",
    "plt.figure(figsize=(5, 5))\n",
    "plt.hist(v_y_dot_err, 50)\n",
    "plt.xlabel('error', fontsize=14)\n",
    "plt.ylabel('count', fontsize=14)\n",
    "plt.xticks(fontsize=14)\n",
    "plt.yticks(fontsize=14)\n",
    "plt.title(\n",
    "    'Error in prediction of $\\dot{V}_y$\\n' +\n",
    "    f'(mean = {np.mean(v_y_dot_err):6.3f}, std = {np.std(v_y_dot_err):6.3f})',\n",
    "    fontsize=14,\n",
    ")\n",
    "plt.show()"
   ]
  },
  {
   "cell_type": "markdown",
   "id": "6092b34a",
   "metadata": {},
   "source": [
    "### 4.2.9 Error in linear model of $\\dot{v}_z$"
   ]
  },
  {
   "cell_type": "code",
   "execution_count": null,
   "id": "72163f6e",
   "metadata": {},
   "outputs": [],
   "source": [
    "v_z_dot_true = (v_z[1:] - v_z[:-1]) / dt\n",
    "\n",
    "print(f'len(v_z_dot_true) = {len(v_z_dot_true)}')\n",
    "print(f'         len(v_z) = {len(v_z)}')\n",
    "print(f'           len(t) = {len(t)}')\n",
    "\n",
    "v_z_dot_predicted = a_z - g\n",
    "\n",
    "plt.figure(figsize=(10, 5))\n",
    "plt.plot(t[:-1], v_z_dot_true, label='$\\dot{v}_z$ (true)', linewidth=1)\n",
    "plt.plot(t, v_z_dot_predicted, '--', label='$\\dot{v}_z$ (predicted)', linewidth=2)\n",
    "plt.legend(fontsize=14)\n",
    "plt.xticks(fontsize=14)\n",
    "plt.yticks(fontsize=14)\n",
    "plt.xlabel('time (s)', fontsize=14)\n",
    "plt.show()\n",
    "\n",
    "v_z_dot_err = v_z_dot_predicted[:-1] - v_z_dot_true"
   ]
  },
  {
   "cell_type": "code",
   "execution_count": null,
   "id": "838f5d34",
   "metadata": {},
   "outputs": [],
   "source": [
    "#Histogram\n",
    "plt.figure(figsize=(5, 5))\n",
    "plt.hist(v_z_dot_err, 50)\n",
    "plt.xlabel('error', fontsize=14)\n",
    "plt.ylabel('count', fontsize=14)\n",
    "plt.xticks(fontsize=14)\n",
    "plt.yticks(fontsize=14)\n",
    "plt.title(\n",
    "    'Error in prediction of $\\dot{V}_z$\\n' +\n",
    "    f'(mean = {np.mean(v_z_dot_err):6.3f}, std = {np.std(v_z_dot_err):6.3f})',\n",
    "    fontsize=14,\n",
    ")\n",
    "plt.show()"
   ]
  },
  {
   "cell_type": "markdown",
   "id": "141272d6",
   "metadata": {},
   "source": [
    "## 4.3 Error in linearized measurement equations"
   ]
  },
  {
   "cell_type": "markdown",
   "id": "49d60e7a",
   "metadata": {},
   "source": [
    "### 4.3.1 Error in linear model of $n_x$"
   ]
  },
  {
   "cell_type": "markdown",
   "id": "7e8206e1",
   "metadata": {},
   "source": [
    "Predict $n_x$ with the linearized measurement equations.\n",
    "\n",
    "In particular, note that the first element of $y$ is $n_x$, and that the first element of $Cx+Du$ is\n",
    "\n",
    "$$k_\\text{flow} \\left( \\dfrac{v_x}{o_\\text{z, eq}} - w_y \\right),$$\n",
    "\n",
    "so our linear model tells us that\n",
    "\n",
    "$$n_x \\approx k_\\text{flow} \\left( \\dfrac{v_x}{o_\\text{z, eq}} - w_y \\right).$$"
   ]
  },
  {
   "cell_type": "code",
   "execution_count": null,
   "id": "8b0e0d48",
   "metadata": {},
   "outputs": [],
   "source": [
    "n_x_predicted = k_flow * ((v_x / o_z_eq) - w_y)"
   ]
  },
  {
   "cell_type": "markdown",
   "id": "53f90d4d",
   "metadata": {},
   "source": [
    "Compare the true value and the predicted values of $n_x$ in a plot."
   ]
  },
  {
   "cell_type": "code",
   "execution_count": null,
   "id": "598126a4",
   "metadata": {},
   "outputs": [],
   "source": [
    "plt.figure(figsize=(10, 5))\n",
    "plt.plot(t, n_x, label='$n_x$ (true)', linewidth=1)\n",
    "plt.plot(t, n_x_predicted, '--', label='$n_x$ (predicted)', linewidth=2)\n",
    "plt.legend(fontsize=14)\n",
    "plt.xticks(fontsize=14)\n",
    "plt.yticks(fontsize=14)\n",
    "plt.xlabel('time (s)', fontsize=14)\n",
    "plt.show()"
   ]
  },
  {
   "cell_type": "markdown",
   "id": "54177399",
   "metadata": {},
   "source": [
    "Compute the error in the linear model, i.e., the difference between the predicted and true values of $n_x$."
   ]
  },
  {
   "cell_type": "code",
   "execution_count": null,
   "id": "7b5beabe",
   "metadata": {},
   "outputs": [],
   "source": [
    "n_x_err = n_x_predicted - n_x"
   ]
  },
  {
   "cell_type": "markdown",
   "id": "8cb3088b",
   "metadata": {},
   "source": [
    "Plot a histogram of the error, showing mean and standard deviation."
   ]
  },
  {
   "cell_type": "code",
   "execution_count": null,
   "id": "20266d84",
   "metadata": {},
   "outputs": [],
   "source": [
    "plt.figure(figsize=(5, 5))\n",
    "plt.hist(n_x_err, 50)\n",
    "plt.xlabel('error', fontsize=14)\n",
    "plt.ylabel('count', fontsize=14)\n",
    "plt.xticks(fontsize=14)\n",
    "plt.yticks(fontsize=14)\n",
    "plt.title(\n",
    "    'Error in prediction of $n_x$\\n' +\n",
    "    f'(mean = {np.mean(n_x_err):6.3f}, std = {np.std(n_x_err):6.3f})',\n",
    "    fontsize=14,\n",
    ")\n",
    "plt.show()"
   ]
  },
  {
   "cell_type": "markdown",
   "id": "2accd8ad",
   "metadata": {},
   "source": [
    "### 4.3.2 Error in linear model of $n_y$"
   ]
  },
  {
   "cell_type": "code",
   "execution_count": null,
   "id": "71203ca4",
   "metadata": {},
   "outputs": [],
   "source": [
    "n_y_predicted = k_flow * ((v_y / o_z_eq) + w_x)\n",
    "\n",
    "plt.figure(figsize=(10, 5))\n",
    "plt.plot(t, n_y, label='$n_y$ (true)', linewidth=1)\n",
    "plt.plot(t, n_y_predicted, '--', label='$n_y$ (predicted)', linewidth=2)\n",
    "plt.legend(fontsize=14)\n",
    "plt.xticks(fontsize=14)\n",
    "plt.yticks(fontsize=14)\n",
    "plt.xlabel('time (s)', fontsize=14)\n",
    "plt.show()"
   ]
  },
  {
   "cell_type": "code",
   "execution_count": null,
   "id": "6c971f30",
   "metadata": {},
   "outputs": [],
   "source": [
    "n_y_err = n_y_predicted - n_y\n",
    "\n",
    "plt.figure(figsize=(5, 5))\n",
    "plt.hist(n_y_err, 50)\n",
    "plt.xlabel('error', fontsize=14)\n",
    "plt.ylabel('count', fontsize=14)\n",
    "plt.xticks(fontsize=14)\n",
    "plt.yticks(fontsize=14)\n",
    "plt.title(\n",
    "    'Error in prediction of $n_y$\\n' +\n",
    "    f'(mean = {np.mean(n_y_err):6.3f}, std = {np.std(n_y_err):6.3f})',\n",
    "    fontsize=14,\n",
    ")\n",
    "plt.show()"
   ]
  },
  {
   "cell_type": "markdown",
   "id": "edd916d1",
   "metadata": {},
   "source": [
    "### 4.3.3 Error in linear model of $r$"
   ]
  },
  {
   "cell_type": "code",
   "execution_count": null,
   "id": "4d078565",
   "metadata": {},
   "outputs": [],
   "source": [
    "r_predicted = o_z\n",
    "\n",
    "plt.figure(figsize=(10, 5))\n",
    "plt.plot(t, r, label='$r$ (true)', linewidth=1)\n",
    "plt.plot(t, r_predicted, '--', label='$r$ (predicted)', linewidth=2)\n",
    "plt.legend(fontsize=14)\n",
    "plt.xticks(fontsize=14)\n",
    "plt.yticks(fontsize=14)\n",
    "plt.xlabel('time (s)', fontsize=14)\n",
    "plt.show()"
   ]
  },
  {
   "cell_type": "code",
   "execution_count": null,
   "id": "99dcc108",
   "metadata": {},
   "outputs": [],
   "source": [
    "r_err = r_predicted - r\n",
    "\n",
    "plt.figure(figsize=(5, 5))\n",
    "plt.hist(r_err, 50)\n",
    "plt.xlabel('error', fontsize=14)\n",
    "plt.ylabel('count', fontsize=14)\n",
    "plt.xticks(fontsize=14)\n",
    "plt.yticks(fontsize=14)\n",
    "plt.title(\n",
    "    'Error in prediction of $r$\\n' +\n",
    "    f'(mean = {np.mean(r_err):6.3f}, std = {np.std(r_err):6.3f})',\n",
    "    fontsize=14,\n",
    ")\n",
    "plt.show()"
   ]
  },
  {
   "cell_type": "markdown",
   "id": "0e81acbd",
   "metadata": {},
   "source": [
    "## 4.4 Summary"
   ]
  },
  {
   "cell_type": "markdown",
   "id": "bbf0dedf",
   "metadata": {},
   "source": [
    "The following table reports the mean and standard deviation of error in the linearized equations of motion:\n",
    "\n",
    "|  | $\\dot{o}_x$ | $\\dot{o}_y$ | $\\dot{o}_z$ | $\\dot{\\psi}$ | $\\dot{\\theta}$ | $\\dot{\\phi}$ | $\\dot{v}_x$ | $\\dot{v}_y$ | $\\dot{v}_z$ |\n",
    "| :--: | :--: | :--: | :--: | :--: | :--: | :--: | :--: | :--: | :--: |\n",
    "| mean | 0.003 | -0.004 | 0.001 | 0.001 | 0.000 | 0.001 | 0.004 | -0.008 | 0.008 |\n",
    "| std | 0.118 | 0.071 | 0.030 | 0.008 | 0.043 | 0.033 | 0.0233 | 0.143 | 0.171 |"
   ]
  },
  {
   "cell_type": "markdown",
   "id": "d85131e0",
   "metadata": {},
   "source": [
    "The following table reports the mean and standard deviation of error in the linearized measurement equations:\n",
    "\n",
    "|  | $n_x$ | $n_y$ | $r$ |\n",
    "| :--: | :--: | :--: | :--: |\n",
    "| mean | -0.019 | -0.131 | 0.001 |\n",
    "| std | 1.104 | 0.905 | 0.003 |"
   ]
  }
 ],
 "metadata": {
  "interpreter": {
   "hash": "bd58688acbe0d63d95e2d157a1965f78c88a4609f43ab72a608a1cbd36fd0a00"
  },
  "kernelspec": {
   "display_name": "Python 3 (ipykernel)",
   "language": "python",
   "name": "python3"
  },
  "language_info": {
   "codemirror_mode": {
    "name": "ipython",
    "version": 3
   },
   "file_extension": ".py",
   "mimetype": "text/x-python",
   "name": "python",
   "nbconvert_exporter": "python",
   "pygments_lexer": "ipython3",
   "version": "3.8.10"
  }
 },
 "nbformat": 4,
 "nbformat_minor": 2
}
